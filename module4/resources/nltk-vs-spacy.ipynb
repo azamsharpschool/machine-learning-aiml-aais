{
 "cells": [
  {
   "cell_type": "code",
   "execution_count": null,
   "id": "4c31df3a-fe9f-4060-b7d0-a651f294e5ab",
   "metadata": {},
   "outputs": [],
   "source": [
    "!pip install spacy nltk "
   ]
  },
  {
   "cell_type": "code",
   "execution_count": null,
   "id": "5be5eff2-4373-44e4-9fca-59c7ebb8fb6c",
   "metadata": {},
   "outputs": [],
   "source": [
    "!python -m spacy download en "
   ]
  },
  {
   "cell_type": "code",
   "execution_count": null,
   "id": "fd22db1b-955f-4912-8775-5305db6739df",
   "metadata": {},
   "outputs": [],
   "source": [
    "import spacy "
   ]
  },
  {
   "cell_type": "code",
   "execution_count": null,
   "id": "e8d6d48f-54a3-47f7-8d5e-7589ad66582d",
   "metadata": {},
   "outputs": [],
   "source": [
    "\"\"\"\n",
    "spacy.load(\"en_core_web_sm\"): This function loads a pre-trained spaCy model.\n",
    "In this case, \"en_core_web_sm\" is the name of a small English model provided by spaCy.\n",
    "The model includes a variety of linguistic features, such as tokenization, part-of-speech tagging,\n",
    "named entity recognition, and more. The \"sm\" in the name indicates that it's a small-sized model, which is faster and uses less memory\n",
    "but might be less accurate than larger models like \"en_core_web_md\" (medium) or \"en_core_web_lg\" (large).\n",
    "\"\"\"\n",
    "\n",
    "nlp = spacy.load(\"en_core_web_sm\") "
   ]
  },
  {
   "cell_type": "code",
   "execution_count": null,
   "id": "06f1891a-2a02-4f57-a859-305a6f9a4766",
   "metadata": {},
   "outputs": [],
   "source": [
    "nlp "
   ]
  },
  {
   "cell_type": "code",
   "execution_count": null,
   "id": "45283081-ef8f-4fa2-92b9-75000b0fbcad",
   "metadata": {},
   "outputs": [],
   "source": [
    "text = \"As the sun dipped below the horizon, casting a warm golden glow over the landscape, the distant sound of waves crashing against the shore filled the air. Birds fluttered from tree to tree, their songs mixing with the soft rustle of leaves in the evening breeze. In this tranquil moment, everything seemed to slow down, and the worries of the day faded into the background, leaving only the serene beauty of nature.\""
   ]
  },
  {
   "cell_type": "code",
   "execution_count": null,
   "id": "3b75d261-6170-499d-8311-e3963ad161de",
   "metadata": {},
   "outputs": [],
   "source": [
    "doc = nlp(text) "
   ]
  },
  {
   "cell_type": "code",
   "execution_count": null,
   "id": "4060d098-aebf-4609-8d5e-10397b37585e",
   "metadata": {},
   "outputs": [],
   "source": [
    "doc "
   ]
  },
  {
   "cell_type": "code",
   "execution_count": null,
   "id": "3103119c-5959-40c0-bb19-b79c01abbe9e",
   "metadata": {},
   "outputs": [],
   "source": [
    "for sentence in doc.sents: \n",
    "    print(sentence) "
   ]
  },
  {
   "cell_type": "code",
   "execution_count": null,
   "id": "9d8cbc8d-53b1-4a66-81aa-1514f237dcda",
   "metadata": {},
   "outputs": [],
   "source": [
    "for sentence in doc.sents: \n",
    "    for word in sentence: \n",
    "        print(word) "
   ]
  },
  {
   "cell_type": "code",
   "execution_count": 1,
   "id": "c2d78a23-178d-42a9-876d-75c294fc54eb",
   "metadata": {},
   "outputs": [
    {
     "name": "stdout",
     "output_type": "stream",
     "text": [
      "Requirement already satisfied: nltk in ./env/lib/python3.12/site-packages (3.9)\n",
      "Requirement already satisfied: click in ./env/lib/python3.12/site-packages (from nltk) (8.1.7)\n",
      "Requirement already satisfied: joblib in ./env/lib/python3.12/site-packages (from nltk) (1.4.0)\n",
      "Requirement already satisfied: regex>=2021.8.3 in ./env/lib/python3.12/site-packages (from nltk) (2024.7.24)\n",
      "Requirement already satisfied: tqdm in ./env/lib/python3.12/site-packages (from nltk) (4.66.5)\n"
     ]
    }
   ],
   "source": [
    "!pip install nltk "
   ]
  },
  {
   "cell_type": "code",
   "execution_count": null,
   "id": "b5f18288-253d-406a-aadd-b5a68e342986",
   "metadata": {},
   "outputs": [],
   "source": [
    "# import nltk \n",
    "# nltk.download(\"punkt\") \n",
    "\n",
    "# from nltk.tokenize import sent_tokenize \n",
    "# sent_tokenize(\"Hello, I love Python programming. I am also interested in machine learning.\")\n",
    "\n",
    "# [\"Hello, I love Python programming\", \"I am also interested in machine learning.\"]"
   ]
  }
 ],
 "metadata": {
  "kernelspec": {
   "display_name": "Python 3 (ipykernel)",
   "language": "python",
   "name": "python3"
  },
  "language_info": {
   "codemirror_mode": {
    "name": "ipython",
    "version": 3
   },
   "file_extension": ".py",
   "mimetype": "text/x-python",
   "name": "python",
   "nbconvert_exporter": "python",
   "pygments_lexer": "ipython3",
   "version": "3.12.3"
  }
 },
 "nbformat": 4,
 "nbformat_minor": 5
}
