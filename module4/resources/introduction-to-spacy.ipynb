{
 "cells": [
  {
   "cell_type": "code",
   "execution_count": 1,
   "id": "a2e4a63b-170b-43e8-9d5c-38f1a52b270b",
   "metadata": {},
   "outputs": [],
   "source": [
    "# https://github.com/codebasics/nlp-tutorials/blob/main/8_NER/nlp_tutorial_NER.ipynb"
   ]
  },
  {
   "cell_type": "code",
   "execution_count": 2,
   "id": "6ae12f09-895b-4644-8046-28b77d54b779",
   "metadata": {},
   "outputs": [],
   "source": [
    "import spacy"
   ]
  },
  {
   "cell_type": "code",
   "execution_count": 3,
   "id": "06ea977c-192e-412c-b572-99a08db1759e",
   "metadata": {},
   "outputs": [],
   "source": [
    "nlp = spacy.load(\"en_core_web_sm\")"
   ]
  },
  {
   "cell_type": "code",
   "execution_count": 8,
   "id": "7a9ff926-72be-4d36-a61d-c6d2256a5c6b",
   "metadata": {},
   "outputs": [
    {
     "name": "stdout",
     "output_type": "stream",
     "text": [
      "Steve Jobs  |  PERSON  |  People, including fictional\n",
      "Tim Cook  |  PERSON  |  People, including fictional\n",
      "Apple  |  ORG  |  Companies, agencies, institutions, etc.\n",
      "iPhone  |  ORG  |  Companies, agencies, institutions, etc.\n",
      "2007  |  DATE  |  Absolute or relative dates or periods\n"
     ]
    }
   ],
   "source": [
    "doc = nlp(\"Steve Jobs and Tim Cook from Apple announced iPhone in 2007.\")\n",
    "for ent in doc.ents: \n",
    "    print(ent.text, \" | \", ent.label_, \" | \", spacy.explain(ent.label_)) "
   ]
  },
  {
   "cell_type": "code",
   "execution_count": 9,
   "id": "234eb961-b3fb-4af2-8f29-022b7333fa35",
   "metadata": {},
   "outputs": [
    {
     "data": {
      "text/plain": [
       "['CARDINAL',\n",
       " 'DATE',\n",
       " 'EVENT',\n",
       " 'FAC',\n",
       " 'GPE',\n",
       " 'LANGUAGE',\n",
       " 'LAW',\n",
       " 'LOC',\n",
       " 'MONEY',\n",
       " 'NORP',\n",
       " 'ORDINAL',\n",
       " 'ORG',\n",
       " 'PERCENT',\n",
       " 'PERSON',\n",
       " 'PRODUCT',\n",
       " 'QUANTITY',\n",
       " 'TIME',\n",
       " 'WORK_OF_ART']"
      ]
     },
     "execution_count": 9,
     "metadata": {},
     "output_type": "execute_result"
    }
   ],
   "source": [
    "nlp.pipe_labels[\"ner\"]"
   ]
  },
  {
   "cell_type": "code",
   "execution_count": 12,
   "id": "64a784be-6de9-465e-92e4-2e935ee4abc9",
   "metadata": {},
   "outputs": [
    {
     "data": {
      "text/plain": [
       "iPhone"
      ]
     },
     "execution_count": 12,
     "metadata": {},
     "output_type": "execute_result"
    }
   ],
   "source": [
    "word = doc[8:9]\n",
    "word "
   ]
  },
  {
   "cell_type": "code",
   "execution_count": 13,
   "id": "e2f8183d-1929-468b-9bbd-66d0bff65530",
   "metadata": {},
   "outputs": [
    {
     "data": {
      "text/plain": [
       "spacy.tokens.span.Span"
      ]
     },
     "execution_count": 13,
     "metadata": {},
     "output_type": "execute_result"
    }
   ],
   "source": [
    "type(word)"
   ]
  },
  {
   "cell_type": "code",
   "execution_count": 14,
   "id": "42ceda55-1c2d-499a-a144-68780b4b0632",
   "metadata": {},
   "outputs": [],
   "source": [
    "from spacy.tokens import Span \n",
    "span1 = Span(doc, 8, 9, label=\"PRODUCT\")\n",
    "doc.set_ents([span1], default=\"unmodified\")"
   ]
  },
  {
   "cell_type": "code",
   "execution_count": 15,
   "id": "124b26ff-5cbf-4763-b0b3-90b226e2636a",
   "metadata": {},
   "outputs": [
    {
     "name": "stdout",
     "output_type": "stream",
     "text": [
      "Steve Jobs  |  PERSON  |  People, including fictional\n",
      "Tim Cook  |  PERSON  |  People, including fictional\n",
      "Apple  |  ORG  |  Companies, agencies, institutions, etc.\n",
      "iPhone  |  PRODUCT  |  Objects, vehicles, foods, etc. (not services)\n",
      "2007  |  DATE  |  Absolute or relative dates or periods\n"
     ]
    }
   ],
   "source": [
    "for ent in doc.ents: \n",
    "    print(ent.text, \" | \", ent.label_, \" | \", spacy.explain(ent.label_)) "
   ]
  },
  {
   "cell_type": "code",
   "execution_count": 16,
   "id": "9b7309ec-9462-444a-b89a-42b5d57049f1",
   "metadata": {},
   "outputs": [
    {
     "data": {
      "text/html": [
       "<span class=\"tex2jax_ignore\"><div class=\"entities\" style=\"line-height: 2.5; direction: ltr\">\n",
       "<mark class=\"entity\" style=\"background: #aa9cfc; padding: 0.45em 0.6em; margin: 0 0.25em; line-height: 1; border-radius: 0.35em;\">\n",
       "    Steve Jobs\n",
       "    <span style=\"font-size: 0.8em; font-weight: bold; line-height: 1; border-radius: 0.35em; vertical-align: middle; margin-left: 0.5rem\">PERSON</span>\n",
       "</mark>\n",
       " and \n",
       "<mark class=\"entity\" style=\"background: #aa9cfc; padding: 0.45em 0.6em; margin: 0 0.25em; line-height: 1; border-radius: 0.35em;\">\n",
       "    Tim Cook\n",
       "    <span style=\"font-size: 0.8em; font-weight: bold; line-height: 1; border-radius: 0.35em; vertical-align: middle; margin-left: 0.5rem\">PERSON</span>\n",
       "</mark>\n",
       " from \n",
       "<mark class=\"entity\" style=\"background: #7aecec; padding: 0.45em 0.6em; margin: 0 0.25em; line-height: 1; border-radius: 0.35em;\">\n",
       "    Apple\n",
       "    <span style=\"font-size: 0.8em; font-weight: bold; line-height: 1; border-radius: 0.35em; vertical-align: middle; margin-left: 0.5rem\">ORG</span>\n",
       "</mark>\n",
       " announced \n",
       "<mark class=\"entity\" style=\"background: #bfeeb7; padding: 0.45em 0.6em; margin: 0 0.25em; line-height: 1; border-radius: 0.35em;\">\n",
       "    iPhone\n",
       "    <span style=\"font-size: 0.8em; font-weight: bold; line-height: 1; border-radius: 0.35em; vertical-align: middle; margin-left: 0.5rem\">PRODUCT</span>\n",
       "</mark>\n",
       " in \n",
       "<mark class=\"entity\" style=\"background: #bfe1d9; padding: 0.45em 0.6em; margin: 0 0.25em; line-height: 1; border-radius: 0.35em;\">\n",
       "    2007\n",
       "    <span style=\"font-size: 0.8em; font-weight: bold; line-height: 1; border-radius: 0.35em; vertical-align: middle; margin-left: 0.5rem\">DATE</span>\n",
       "</mark>\n",
       ".</div></span>"
      ],
      "text/plain": [
       "<IPython.core.display.HTML object>"
      ]
     },
     "metadata": {},
     "output_type": "display_data"
    }
   ],
   "source": [
    "from spacy import displacy\n",
    "displacy.render(doc, style=\"ent\") "
   ]
  },
  {
   "cell_type": "code",
   "execution_count": null,
   "id": "6bb22a55-a6dc-4962-b122-4aea010cc5dd",
   "metadata": {},
   "outputs": [],
   "source": []
  }
 ],
 "metadata": {
  "kernelspec": {
   "display_name": "Python 3 (ipykernel)",
   "language": "python",
   "name": "python3"
  },
  "language_info": {
   "codemirror_mode": {
    "name": "ipython",
    "version": 3
   },
   "file_extension": ".py",
   "mimetype": "text/x-python",
   "name": "python",
   "nbconvert_exporter": "python",
   "pygments_lexer": "ipython3",
   "version": "3.10.13"
  }
 },
 "nbformat": 4,
 "nbformat_minor": 5
}
