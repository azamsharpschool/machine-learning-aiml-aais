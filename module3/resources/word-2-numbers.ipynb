{
 "cells": [
  {
   "cell_type": "code",
   "execution_count": 114,
   "id": "a059f369-d7b8-456d-b944-b7d75055f0af",
   "metadata": {},
   "outputs": [],
   "source": [
    "import numpy as np\n",
    "from tensorflow.keras.preprocessing.text import one_hot\n",
    "from tensorflow.keras.preprocessing.sequence import pad_sequences\n",
    "from tensorflow.keras.models import Sequential\n",
    "from tensorflow.keras.layers import Dense\n",
    "from tensorflow.keras.layers import Flatten\n",
    "from tensorflow.keras.layers import Embedding"
   ]
  },
  {
   "cell_type": "code",
   "execution_count": 115,
   "id": "b846ea78-bd6f-4541-a6e3-dafde933057c",
   "metadata": {},
   "outputs": [],
   "source": [
    "reviews = ['nice food',\n",
    "        'amazing restaurant',\n",
    "        'too good',\n",
    "        'just loved it!',\n",
    "        'will go again',\n",
    "        'horrible food',\n",
    "        'never go there',\n",
    "        'poor service',\n",
    "        'poor quality',\n",
    "        'needs improvement']\n",
    "\n",
    "sentiment = np.array([1,1,1,1,1,0,0,0,0,0])"
   ]
  },
  {
   "cell_type": "code",
   "execution_count": 116,
   "id": "c388b7bc-c5d6-4fdc-acfb-3fd75856a87b",
   "metadata": {},
   "outputs": [],
   "source": [
    "# convert to one hot vector \n",
    "# max number will be 30 so it will be between 1 - 30 \n",
    "# one_hot(\"amazing restaurant\", 30) "
   ]
  },
  {
   "cell_type": "code",
   "execution_count": 117,
   "id": "58435768-2f70-4837-9300-5cb39f0fce7f",
   "metadata": {},
   "outputs": [],
   "source": [
    "vocab_size = 500 "
   ]
  },
  {
   "cell_type": "code",
   "execution_count": 118,
   "id": "c957f81e-a6c9-43fc-b901-77e319cbfb6d",
   "metadata": {},
   "outputs": [],
   "source": [
    "encoded_reviews = [one_hot(d, vocab_size) for d in reviews]"
   ]
  },
  {
   "cell_type": "code",
   "execution_count": 119,
   "id": "3f537530-c384-4df9-b8db-7d40d527b642",
   "metadata": {
    "scrolled": true
   },
   "outputs": [
    {
     "data": {
      "text/plain": [
       "[[361, 136],\n",
       " [110, 285],\n",
       " [54, 211],\n",
       " [494, 109, 183],\n",
       " [198, 190, 373],\n",
       " [122, 136],\n",
       " [179, 190, 433],\n",
       " [200, 497],\n",
       " [200, 164],\n",
       " [374, 455]]"
      ]
     },
     "execution_count": 119,
     "metadata": {},
     "output_type": "execute_result"
    }
   ],
   "source": [
    "encoded_reviews"
   ]
  },
  {
   "cell_type": "code",
   "execution_count": 120,
   "id": "cffd4372-a38b-409a-aca5-8d9156349d23",
   "metadata": {},
   "outputs": [],
   "source": [
    "# we need to setup padding \n",
    "max_length = 3 \n",
    "padded_reviews = pad_sequences(encoded_reviews, maxlen=max_length, padding='post')"
   ]
  },
  {
   "cell_type": "code",
   "execution_count": 121,
   "id": "e98363d4-0a31-4d49-993d-836973cda4ed",
   "metadata": {},
   "outputs": [
    {
     "data": {
      "text/plain": [
       "array([[361, 136,   0],\n",
       "       [110, 285,   0],\n",
       "       [ 54, 211,   0],\n",
       "       [494, 109, 183],\n",
       "       [198, 190, 373],\n",
       "       [122, 136,   0],\n",
       "       [179, 190, 433],\n",
       "       [200, 497,   0],\n",
       "       [200, 164,   0],\n",
       "       [374, 455,   0]], dtype=int32)"
      ]
     },
     "execution_count": 121,
     "metadata": {},
     "output_type": "execute_result"
    }
   ],
   "source": [
    "padded_reviews"
   ]
  },
  {
   "cell_type": "code",
   "execution_count": 122,
   "id": "412066b7-bf70-4589-8eb0-7b52d0a97aba",
   "metadata": {},
   "outputs": [],
   "source": [
    "model = Sequential() \n",
    "model.add(Embedding(vocab_size, 4, input_length=max_length, name=\"embedding\")) \n",
    "model.add(Flatten()) \n",
    "model.add(Dense(1, activation=\"sigmoid\")) "
   ]
  },
  {
   "cell_type": "code",
   "execution_count": 123,
   "id": "9fc40f3b-8753-442a-8dcb-18a8dcc03261",
   "metadata": {},
   "outputs": [],
   "source": [
    "X = padded_reviews \n",
    "y = sentiment "
   ]
  },
  {
   "cell_type": "code",
   "execution_count": 124,
   "id": "b551d9df-6f44-4a52-86a0-38dbc3a70c3a",
   "metadata": {},
   "outputs": [],
   "source": [
    "model.compile(optimizer=\"adam\", loss=\"binary_crossentropy\", metrics=[\"accuracy\"])"
   ]
  },
  {
   "cell_type": "code",
   "execution_count": 125,
   "id": "bb700b7b-b1e4-4500-9c4e-2239114c7d0a",
   "metadata": {},
   "outputs": [
    {
     "name": "stdout",
     "output_type": "stream",
     "text": [
      "Epoch 1/50\n",
      "1/1 [==============================] - 0s 346ms/step - loss: 0.6967 - accuracy: 0.6000\n",
      "Epoch 2/50\n",
      "1/1 [==============================] - 0s 2ms/step - loss: 0.6953 - accuracy: 0.6000\n",
      "Epoch 3/50\n",
      "1/1 [==============================] - 0s 3ms/step - loss: 0.6939 - accuracy: 0.6000\n",
      "Epoch 4/50\n",
      "1/1 [==============================] - 0s 3ms/step - loss: 0.6925 - accuracy: 0.6000\n",
      "Epoch 5/50\n",
      "1/1 [==============================] - 0s 3ms/step - loss: 0.6911 - accuracy: 0.6000\n",
      "Epoch 6/50\n",
      "1/1 [==============================] - 0s 4ms/step - loss: 0.6897 - accuracy: 0.6000\n",
      "Epoch 7/50\n",
      "1/1 [==============================] - 0s 4ms/step - loss: 0.6883 - accuracy: 0.7000\n",
      "Epoch 8/50\n",
      "1/1 [==============================] - 0s 4ms/step - loss: 0.6869 - accuracy: 0.8000\n",
      "Epoch 9/50\n",
      "1/1 [==============================] - 0s 4ms/step - loss: 0.6855 - accuracy: 0.8000\n",
      "Epoch 10/50\n",
      "1/1 [==============================] - 0s 4ms/step - loss: 0.6841 - accuracy: 0.8000\n",
      "Epoch 11/50\n",
      "1/1 [==============================] - 0s 5ms/step - loss: 0.6827 - accuracy: 0.8000\n",
      "Epoch 12/50\n",
      "1/1 [==============================] - 0s 4ms/step - loss: 0.6814 - accuracy: 0.8000\n",
      "Epoch 13/50\n",
      "1/1 [==============================] - 0s 3ms/step - loss: 0.6800 - accuracy: 0.8000\n",
      "Epoch 14/50\n",
      "1/1 [==============================] - 0s 4ms/step - loss: 0.6786 - accuracy: 0.8000\n",
      "Epoch 15/50\n",
      "1/1 [==============================] - 0s 4ms/step - loss: 0.6772 - accuracy: 0.8000\n",
      "Epoch 16/50\n",
      "1/1 [==============================] - 0s 4ms/step - loss: 0.6758 - accuracy: 0.9000\n",
      "Epoch 17/50\n",
      "1/1 [==============================] - 0s 4ms/step - loss: 0.6744 - accuracy: 0.9000\n",
      "Epoch 18/50\n",
      "1/1 [==============================] - 0s 3ms/step - loss: 0.6730 - accuracy: 0.9000\n",
      "Epoch 19/50\n",
      "1/1 [==============================] - 0s 4ms/step - loss: 0.6716 - accuracy: 0.9000\n",
      "Epoch 20/50\n",
      "1/1 [==============================] - 0s 3ms/step - loss: 0.6702 - accuracy: 0.9000\n",
      "Epoch 21/50\n",
      "1/1 [==============================] - 0s 4ms/step - loss: 0.6687 - accuracy: 0.9000\n",
      "Epoch 22/50\n",
      "1/1 [==============================] - 0s 4ms/step - loss: 0.6673 - accuracy: 0.9000\n",
      "Epoch 23/50\n",
      "1/1 [==============================] - 0s 4ms/step - loss: 0.6659 - accuracy: 0.9000\n",
      "Epoch 24/50\n",
      "1/1 [==============================] - 0s 3ms/step - loss: 0.6644 - accuracy: 0.9000\n",
      "Epoch 25/50\n",
      "1/1 [==============================] - 0s 3ms/step - loss: 0.6630 - accuracy: 0.9000\n",
      "Epoch 26/50\n",
      "1/1 [==============================] - 0s 4ms/step - loss: 0.6615 - accuracy: 0.9000\n",
      "Epoch 27/50\n",
      "1/1 [==============================] - 0s 4ms/step - loss: 0.6601 - accuracy: 1.0000\n",
      "Epoch 28/50\n",
      "1/1 [==============================] - 0s 5ms/step - loss: 0.6586 - accuracy: 1.0000\n",
      "Epoch 29/50\n",
      "1/1 [==============================] - 0s 4ms/step - loss: 0.6571 - accuracy: 1.0000\n",
      "Epoch 30/50\n",
      "1/1 [==============================] - 0s 4ms/step - loss: 0.6556 - accuracy: 1.0000\n",
      "Epoch 31/50\n",
      "1/1 [==============================] - 0s 3ms/step - loss: 0.6541 - accuracy: 1.0000\n",
      "Epoch 32/50\n",
      "1/1 [==============================] - 0s 3ms/step - loss: 0.6526 - accuracy: 1.0000\n",
      "Epoch 33/50\n",
      "1/1 [==============================] - 0s 3ms/step - loss: 0.6511 - accuracy: 1.0000\n",
      "Epoch 34/50\n",
      "1/1 [==============================] - 0s 4ms/step - loss: 0.6496 - accuracy: 1.0000\n",
      "Epoch 35/50\n",
      "1/1 [==============================] - 0s 5ms/step - loss: 0.6480 - accuracy: 1.0000\n",
      "Epoch 36/50\n",
      "1/1 [==============================] - 0s 3ms/step - loss: 0.6465 - accuracy: 1.0000\n",
      "Epoch 37/50\n",
      "1/1 [==============================] - 0s 3ms/step - loss: 0.6449 - accuracy: 1.0000\n",
      "Epoch 38/50\n",
      "1/1 [==============================] - 0s 3ms/step - loss: 0.6433 - accuracy: 1.0000\n",
      "Epoch 39/50\n",
      "1/1 [==============================] - 0s 5ms/step - loss: 0.6418 - accuracy: 1.0000\n",
      "Epoch 40/50\n",
      "1/1 [==============================] - 0s 3ms/step - loss: 0.6402 - accuracy: 1.0000\n",
      "Epoch 41/50\n",
      "1/1 [==============================] - 0s 2ms/step - loss: 0.6386 - accuracy: 1.0000\n",
      "Epoch 42/50\n",
      "1/1 [==============================] - 0s 5ms/step - loss: 0.6370 - accuracy: 1.0000\n",
      "Epoch 43/50\n",
      "1/1 [==============================] - 0s 3ms/step - loss: 0.6354 - accuracy: 1.0000\n",
      "Epoch 44/50\n",
      "1/1 [==============================] - 0s 3ms/step - loss: 0.6338 - accuracy: 1.0000\n",
      "Epoch 45/50\n",
      "1/1 [==============================] - 0s 3ms/step - loss: 0.6321 - accuracy: 1.0000\n",
      "Epoch 46/50\n",
      "1/1 [==============================] - 0s 3ms/step - loss: 0.6305 - accuracy: 1.0000\n",
      "Epoch 47/50\n",
      "1/1 [==============================] - 0s 3ms/step - loss: 0.6288 - accuracy: 1.0000\n",
      "Epoch 48/50\n",
      "1/1 [==============================] - 0s 3ms/step - loss: 0.6272 - accuracy: 1.0000\n",
      "Epoch 49/50\n",
      "1/1 [==============================] - 0s 5ms/step - loss: 0.6255 - accuracy: 1.0000\n",
      "Epoch 50/50\n",
      "1/1 [==============================] - 0s 3ms/step - loss: 0.6238 - accuracy: 1.0000\n"
     ]
    },
    {
     "data": {
      "text/plain": [
       "<keras.callbacks.History at 0x7f7931332320>"
      ]
     },
     "execution_count": 125,
     "metadata": {},
     "output_type": "execute_result"
    }
   ],
   "source": [
    "model.fit(X, y, epochs=50) "
   ]
  },
  {
   "cell_type": "code",
   "execution_count": 126,
   "id": "da42c1df-f309-4c87-9827-d3d0a239861e",
   "metadata": {},
   "outputs": [
    {
     "name": "stdout",
     "output_type": "stream",
     "text": [
      "1/1 [==============================] - 0s 106ms/step - loss: 0.6221 - accuracy: 1.0000\n"
     ]
    }
   ],
   "source": [
    "loss, accuracy = model.evaluate(X, y)"
   ]
  },
  {
   "cell_type": "code",
   "execution_count": 127,
   "id": "d52fa5db-a2b8-4bfc-922e-4f8416c8985f",
   "metadata": {},
   "outputs": [],
   "source": [
    "weights = model.get_layer(\"embedding\").get_weights()[0]"
   ]
  },
  {
   "cell_type": "code",
   "execution_count": 128,
   "id": "5a890c6c-a824-40c9-877c-1656efe838a6",
   "metadata": {},
   "outputs": [
    {
     "data": {
      "text/plain": [
       "500"
      ]
     },
     "execution_count": 128,
     "metadata": {},
     "output_type": "execute_result"
    }
   ],
   "source": [
    "len(weights)"
   ]
  },
  {
   "cell_type": "code",
   "execution_count": 129,
   "id": "6bb5be65-b4a8-4cd5-aaf6-315138d38ba2",
   "metadata": {},
   "outputs": [
    {
     "data": {
      "text/plain": [
       "array([ 0.01643981,  0.01034271,  0.00352401, -0.03167285], dtype=float32)"
      ]
     },
     "execution_count": 129,
     "metadata": {},
     "output_type": "execute_result"
    }
   ],
   "source": [
    "weights[11]"
   ]
  },
  {
   "cell_type": "code",
   "execution_count": 130,
   "id": "3bb5a51e-8d5d-4777-9080-cd84bbb4d324",
   "metadata": {},
   "outputs": [
    {
     "name": "stdout",
     "output_type": "stream",
     "text": [
      "1/1 [==============================] - 0s 41ms/step\n"
     ]
    }
   ],
   "source": [
    "classifications = model.predict(X)"
   ]
  },
  {
   "cell_type": "code",
   "execution_count": 131,
   "id": "ed629588-bf60-49ed-b1e4-9ab97d29d677",
   "metadata": {},
   "outputs": [
    {
     "data": {
      "text/plain": [
       "array([[0.5234193 ],\n",
       "       [0.52983975],\n",
       "       [0.52930236],\n",
       "       [0.5601303 ],\n",
       "       [0.53691196],\n",
       "       [0.47375083],\n",
       "       [0.4615184 ],\n",
       "       [0.45808882],\n",
       "       [0.47144413],\n",
       "       [0.44557813]], dtype=float32)"
      ]
     },
     "execution_count": 131,
     "metadata": {},
     "output_type": "execute_result"
    }
   ],
   "source": [
    "classifications "
   ]
  },
  {
   "cell_type": "code",
   "execution_count": 132,
   "id": "a681f52b-1443-41f4-ba05-1b1054c1d9e1",
   "metadata": {},
   "outputs": [],
   "source": [
    "final_classifications = [(prediction > 0.5).astype(int) for prediction in classifications]"
   ]
  },
  {
   "cell_type": "code",
   "execution_count": 133,
   "id": "3686f6b6-996f-4b0d-a90d-ba6783b71039",
   "metadata": {},
   "outputs": [
    {
     "data": {
      "text/plain": [
       "[array([1]),\n",
       " array([1]),\n",
       " array([1]),\n",
       " array([1]),\n",
       " array([1]),\n",
       " array([0]),\n",
       " array([0]),\n",
       " array([0]),\n",
       " array([0]),\n",
       " array([0])]"
      ]
     },
     "execution_count": 133,
     "metadata": {},
     "output_type": "execute_result"
    }
   ],
   "source": [
    "final_classifications"
   ]
  },
  {
   "cell_type": "code",
   "execution_count": 134,
   "id": "86f2faa9-2a1a-4712-90fc-3742d06eaf2a",
   "metadata": {},
   "outputs": [],
   "source": [
    "# Now, let's prepare new data for prediction\n",
    "new_reviews = ['great food',  # should be positive\n",
    "               'terrible service',  # should be negative\n",
    "               'awesome experience']  # should be positive\n",
    "\n",
    "encoded_new_reviews = [one_hot(d, vocab_size) for d in new_reviews]\n",
    "padded_new_reviews = pad_sequences(encoded_new_reviews, maxlen=max_length, padding='post')"
   ]
  },
  {
   "cell_type": "code",
   "execution_count": 135,
   "id": "e7e36fa8-13a3-425e-8b92-e90e073a6140",
   "metadata": {},
   "outputs": [
    {
     "data": {
      "text/plain": [
       "array([[ 19, 136,   0],\n",
       "       [164, 497,   0],\n",
       "       [246, 465,   0]], dtype=int32)"
      ]
     },
     "execution_count": 135,
     "metadata": {},
     "output_type": "execute_result"
    }
   ],
   "source": [
    "padded_new_reviews"
   ]
  },
  {
   "cell_type": "code",
   "execution_count": 136,
   "id": "ee4af4df-3cf0-4c69-b7d2-c2f22dc02802",
   "metadata": {},
   "outputs": [
    {
     "data": {
      "text/plain": [
       "[[19, 136], [164, 497], [246, 465]]"
      ]
     },
     "execution_count": 136,
     "metadata": {},
     "output_type": "execute_result"
    }
   ],
   "source": [
    "encoded_new_reviews"
   ]
  },
  {
   "cell_type": "code",
   "execution_count": 137,
   "id": "e971cdeb-21ff-47ee-b98b-bb51d3a69ac2",
   "metadata": {},
   "outputs": [
    {
     "data": {
      "text/plain": [
       "array([[ 19, 136,   0],\n",
       "       [164, 497,   0],\n",
       "       [246, 465,   0]], dtype=int32)"
      ]
     },
     "execution_count": 137,
     "metadata": {},
     "output_type": "execute_result"
    }
   ],
   "source": [
    "padded_new_reviews"
   ]
  },
  {
   "cell_type": "code",
   "execution_count": 138,
   "id": "b32c0051-7769-44dc-b799-42e18a252198",
   "metadata": {},
   "outputs": [
    {
     "name": "stdout",
     "output_type": "stream",
     "text": [
      "1/1 [==============================] - 0s 18ms/step\n"
     ]
    }
   ],
   "source": [
    "predictions = model.predict(padded_new_reviews)"
   ]
  },
  {
   "cell_type": "code",
   "execution_count": 139,
   "id": "ca8a3902-b603-42a1-af42-d47a89af4ab4",
   "metadata": {},
   "outputs": [
    {
     "data": {
      "text/plain": [
       "array([[0.5140715 ],\n",
       "       [0.4580804 ],\n",
       "       [0.49491358]], dtype=float32)"
      ]
     },
     "execution_count": 139,
     "metadata": {},
     "output_type": "execute_result"
    }
   ],
   "source": [
    "predictions"
   ]
  },
  {
   "cell_type": "code",
   "execution_count": 140,
   "id": "5676d91e-a7f5-4d7e-871f-7c6369c1076a",
   "metadata": {},
   "outputs": [],
   "source": [
    "binary_predictions = np.round(predictions).flatten().astype(int)"
   ]
  },
  {
   "cell_type": "code",
   "execution_count": 141,
   "id": "ea356df3-624b-4176-affc-d21e2a542976",
   "metadata": {},
   "outputs": [
    {
     "data": {
      "text/plain": [
       "array([1, 0, 0])"
      ]
     },
     "execution_count": 141,
     "metadata": {},
     "output_type": "execute_result"
    }
   ],
   "source": [
    "binary_predictions"
   ]
  },
  {
   "cell_type": "code",
   "execution_count": 142,
   "id": "96a022e9-505c-4751-8c87-f0999d9b47a8",
   "metadata": {},
   "outputs": [
    {
     "name": "stdout",
     "output_type": "stream",
     "text": [
      "Review: great food -> Sentiment: Positive\n",
      "Review: terrible service -> Sentiment: Negative\n",
      "Review: awesome experience -> Sentiment: Negative\n"
     ]
    }
   ],
   "source": [
    "# Print the predictions\n",
    "for review, prediction in zip(new_reviews, binary_predictions):\n",
    "    print(f\"Review: {review} -> Sentiment: {'Positive' if prediction == 1 else 'Negative'}\")"
   ]
  },
  {
   "cell_type": "code",
   "execution_count": null,
   "id": "c477c27c-286d-445f-ae9f-c8ac08101813",
   "metadata": {},
   "outputs": [],
   "source": []
  }
 ],
 "metadata": {
  "kernelspec": {
   "display_name": "Python 3 (ipykernel)",
   "language": "python",
   "name": "python3"
  },
  "language_info": {
   "codemirror_mode": {
    "name": "ipython",
    "version": 3
   },
   "file_extension": ".py",
   "mimetype": "text/x-python",
   "name": "python",
   "nbconvert_exporter": "python",
   "pygments_lexer": "ipython3",
   "version": "3.10.13"
  }
 },
 "nbformat": 4,
 "nbformat_minor": 5
}
