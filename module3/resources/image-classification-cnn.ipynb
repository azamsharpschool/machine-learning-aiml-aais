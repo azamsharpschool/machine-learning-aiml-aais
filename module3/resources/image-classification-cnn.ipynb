{
 "cells": [
  {
   "cell_type": "code",
   "execution_count": 2,
   "id": "626f9ea9-7b48-436a-afc0-59128c26c77f",
   "metadata": {},
   "outputs": [],
   "source": [
    "import tensorflow as tf\n",
    "from tensorflow.keras import datasets, layers, models\n",
    "import matplotlib.pyplot as plt\n",
    "import numpy as np\n"
   ]
  },
  {
   "cell_type": "code",
   "execution_count": 3,
   "id": "0b1613f3-3413-4574-8318-53dcb8e3f64b",
   "metadata": {},
   "outputs": [],
   "source": [
    "(X_train, y_train), (X_test, y_test) = datasets.cifar10.load_data()"
   ]
  },
  {
   "cell_type": "code",
   "execution_count": 4,
   "id": "f5701901-04d8-465b-9cac-86d6693f3639",
   "metadata": {},
   "outputs": [
    {
     "data": {
      "text/plain": [
       "(50000, 32, 32, 3)"
      ]
     },
     "execution_count": 4,
     "metadata": {},
     "output_type": "execute_result"
    }
   ],
   "source": [
    "X_train.shape"
   ]
  },
  {
   "cell_type": "code",
   "execution_count": 5,
   "id": "72f29da8-7017-49c6-8117-505e7225c855",
   "metadata": {},
   "outputs": [
    {
     "data": {
      "text/plain": [
       "(50000, 1)"
      ]
     },
     "execution_count": 5,
     "metadata": {},
     "output_type": "execute_result"
    }
   ],
   "source": [
    "y_train.shape"
   ]
  },
  {
   "cell_type": "code",
   "execution_count": 6,
   "id": "0980afb1-c0ee-40c0-bec0-48b7b40af6b2",
   "metadata": {},
   "outputs": [
    {
     "data": {
      "text/plain": [
       "array([[6],\n",
       "       [9],\n",
       "       [9],\n",
       "       [4],\n",
       "       [1]], dtype=uint8)"
      ]
     },
     "execution_count": 6,
     "metadata": {},
     "output_type": "execute_result"
    }
   ],
   "source": [
    "y_train[:5]"
   ]
  },
  {
   "cell_type": "code",
   "execution_count": 7,
   "id": "3cea5d32-c4d6-4a74-b6a0-b2890c22dad9",
   "metadata": {},
   "outputs": [],
   "source": [
    "# It tells the reshape function to infer the missing dimension size automatically based on \n",
    "#the total number of elements in the original array and the other specified dimensions (if any).\n",
    "y_train = y_train.reshape(-1,) "
   ]
  },
  {
   "cell_type": "code",
   "execution_count": 8,
   "id": "39d8b333-3d60-4c69-8730-6624b0a97aa4",
   "metadata": {},
   "outputs": [
    {
     "data": {
      "text/plain": [
       "array([6, 9, 9, ..., 9, 1, 1], dtype=uint8)"
      ]
     },
     "execution_count": 8,
     "metadata": {},
     "output_type": "execute_result"
    }
   ],
   "source": [
    "y_train "
   ]
  },
  {
   "cell_type": "code",
   "execution_count": 9,
   "id": "df29dab2-065b-43c3-a325-0606ac6dd448",
   "metadata": {},
   "outputs": [],
   "source": [
    "classes = [\"airplane\",\"automobile\",\"bird\",\"cat\",\"deer\",\"dog\",\"frog\",\"horse\",\"ship\",\"truck\"]"
   ]
  },
  {
   "cell_type": "code",
   "execution_count": 11,
   "id": "4e22ebe8-85f4-4fde-aa26-936d46054a6a",
   "metadata": {},
   "outputs": [
    {
     "data": {
      "text/plain": [
       "<matplotlib.image.AxesImage at 0x7fd940897070>"
      ]
     },
     "execution_count": 11,
     "metadata": {},
     "output_type": "execute_result"
    },
    {
     "data": {
      "image/png": "[encoded data removed]",
      "text/plain": [
       "<Figure size 480x480 with 1 Axes>"
      ]
     },
     "metadata": {},
     "output_type": "display_data"
    }
   ],
   "source": [
    "# view the image \n",
    "plt.matshow(X_train[1])"
   ]
  },
  {
   "cell_type": "code",
   "execution_count": 12,
   "id": "64c3bf6d-af3f-4f42-a205-212a1dae23a6",
   "metadata": {},
   "outputs": [
    {
     "data": {
      "text/plain": [
       "array([[[[ 59,  62,  63],\n",
       "         [ 43,  46,  45],\n",
       "         [ 50,  48,  43],\n",
       "         ...,\n",
       "         [158, 132, 108],\n",
       "         [152, 125, 102],\n",
       "         [148, 124, 103]],\n",
       "\n",
       "        [[ 16,  20,  20],\n",
       "         [  0,   0,   0],\n",
       "         [ 18,   8,   0],\n",
       "         ...,\n",
       "         [123,  88,  55],\n",
       "         [119,  83,  50],\n",
       "         [122,  87,  57]],\n",
       "\n",
       "        [[ 25,  24,  21],\n",
       "         [ 16,   7,   0],\n",
       "         [ 49,  27,   8],\n",
       "         ...,\n",
       "         [118,  84,  50],\n",
       "         [120,  84,  50],\n",
       "         [109,  73,  42]],\n",
       "\n",
       "        ...,\n",
       "\n",
       "        [[208, 170,  96],\n",
       "         [201, 153,  34],\n",
       "         [198, 161,  26],\n",
       "         ...,\n",
       "         [160, 133,  70],\n",
       "         [ 56,  31,   7],\n",
       "         [ 53,  34,  20]],\n",
       "\n",
       "        [[180, 139,  96],\n",
       "         [173, 123,  42],\n",
       "         [186, 144,  30],\n",
       "         ...,\n",
       "         [184, 148,  94],\n",
       "         [ 97,  62,  34],\n",
       "         [ 83,  53,  34]],\n",
       "\n",
       "        [[177, 144, 116],\n",
       "         [168, 129,  94],\n",
       "         [179, 142,  87],\n",
       "         ...,\n",
       "         [216, 184, 140],\n",
       "         [151, 118,  84],\n",
       "         [123,  92,  72]]],\n",
       "\n",
       "\n",
       "       [[[154, 177, 187],\n",
       "         [126, 137, 136],\n",
       "         [105, 104,  95],\n",
       "         ...,\n",
       "         [ 91,  95,  71],\n",
       "         [ 87,  90,  71],\n",
       "         [ 79,  81,  70]],\n",
       "\n",
       "        [[140, 160, 169],\n",
       "         [145, 153, 154],\n",
       "         [125, 125, 118],\n",
       "         ...,\n",
       "         [ 96,  99,  78],\n",
       "         [ 77,  80,  62],\n",
       "         [ 71,  73,  61]],\n",
       "\n",
       "        [[140, 155, 164],\n",
       "         [139, 146, 149],\n",
       "         [115, 115, 112],\n",
       "         ...,\n",
       "         [ 79,  82,  64],\n",
       "         [ 68,  70,  55],\n",
       "         [ 67,  69,  55]],\n",
       "\n",
       "        ...,\n",
       "\n",
       "        [[175, 167, 166],\n",
       "         [156, 154, 160],\n",
       "         [154, 160, 170],\n",
       "         ...,\n",
       "         [ 42,  34,  36],\n",
       "         [ 61,  53,  57],\n",
       "         [ 93,  83,  91]],\n",
       "\n",
       "        [[165, 154, 128],\n",
       "         [156, 152, 130],\n",
       "         [159, 161, 142],\n",
       "         ...,\n",
       "         [103,  93,  96],\n",
       "         [123, 114, 120],\n",
       "         [131, 121, 131]],\n",
       "\n",
       "        [[163, 148, 120],\n",
       "         [158, 148, 122],\n",
       "         [163, 156, 133],\n",
       "         ...,\n",
       "         [143, 133, 139],\n",
       "         [143, 134, 142],\n",
       "         [143, 133, 144]]],\n",
       "\n",
       "\n",
       "       [[[255, 255, 255],\n",
       "         [253, 253, 253],\n",
       "         [253, 253, 253],\n",
       "         ...,\n",
       "         [253, 253, 253],\n",
       "         [253, 253, 253],\n",
       "         [253, 253, 253]],\n",
       "\n",
       "        [[255, 255, 255],\n",
       "         [255, 255, 255],\n",
       "         [255, 255, 255],\n",
       "         ...,\n",
       "         [255, 255, 255],\n",
       "         [255, 255, 255],\n",
       "         [255, 255, 255]],\n",
       "\n",
       "        [[255, 255, 255],\n",
       "         [254, 254, 254],\n",
       "         [254, 254, 254],\n",
       "         ...,\n",
       "         [254, 254, 254],\n",
       "         [254, 254, 254],\n",
       "         [254, 254, 254]],\n",
       "\n",
       "        ...,\n",
       "\n",
       "        [[113, 120, 112],\n",
       "         [111, 118, 111],\n",
       "         [105, 112, 106],\n",
       "         ...,\n",
       "         [ 72,  81,  80],\n",
       "         [ 72,  80,  79],\n",
       "         [ 72,  80,  79]],\n",
       "\n",
       "        [[111, 118, 110],\n",
       "         [104, 111, 104],\n",
       "         [ 99, 106,  98],\n",
       "         ...,\n",
       "         [ 68,  75,  73],\n",
       "         [ 70,  76,  75],\n",
       "         [ 78,  84,  82]],\n",
       "\n",
       "        [[106, 113, 105],\n",
       "         [ 99, 106,  98],\n",
       "         [ 95, 102,  94],\n",
       "         ...,\n",
       "         [ 78,  85,  83],\n",
       "         [ 79,  85,  83],\n",
       "         [ 80,  86,  84]]],\n",
       "\n",
       "\n",
       "       [[[ 28,  25,  10],\n",
       "         [ 37,  34,  19],\n",
       "         [ 38,  35,  20],\n",
       "         ...,\n",
       "         [ 76,  67,  39],\n",
       "         [ 81,  72,  43],\n",
       "         [ 85,  76,  47]],\n",
       "\n",
       "        [[ 33,  28,  13],\n",
       "         [ 34,  30,  14],\n",
       "         [ 32,  27,  12],\n",
       "         ...,\n",
       "         [ 95,  82,  55],\n",
       "         [ 96,  82,  56],\n",
       "         [ 85,  72,  45]],\n",
       "\n",
       "        [[ 39,  32,  15],\n",
       "         [ 40,  33,  17],\n",
       "         [ 57,  50,  33],\n",
       "         ...,\n",
       "         [ 93,  76,  52],\n",
       "         [107,  89,  66],\n",
       "         [ 95,  77,  54]],\n",
       "\n",
       "        ...,\n",
       "\n",
       "        [[ 83,  73,  52],\n",
       "         [ 87,  77,  56],\n",
       "         [ 84,  74,  52],\n",
       "         ...,\n",
       "         [ 99,  93,  70],\n",
       "         [ 90,  84,  61],\n",
       "         [ 81,  75,  52]],\n",
       "\n",
       "        [[ 88,  72,  51],\n",
       "         [ 90,  74,  52],\n",
       "         [ 93,  77,  56],\n",
       "         ...,\n",
       "         [ 80,  74,  53],\n",
       "         [ 76,  70,  49],\n",
       "         [ 82,  76,  55]],\n",
       "\n",
       "        [[ 97,  78,  56],\n",
       "         [ 94,  75,  53],\n",
       "         [ 93,  75,  53],\n",
       "         ...,\n",
       "         [ 54,  47,  28],\n",
       "         [ 63,  56,  37],\n",
       "         [ 72,  65,  46]]],\n",
       "\n",
       "\n",
       "       [[[170, 180, 198],\n",
       "         [168, 178, 196],\n",
       "         [177, 185, 203],\n",
       "         ...,\n",
       "         [162, 179, 215],\n",
       "         [158, 178, 214],\n",
       "         [157, 177, 212]],\n",
       "\n",
       "        [[168, 181, 198],\n",
       "         [172, 185, 201],\n",
       "         [171, 183, 200],\n",
       "         ...,\n",
       "         [159, 177, 212],\n",
       "         [156, 176, 211],\n",
       "         [154, 174, 209]],\n",
       "\n",
       "        [[154, 170, 186],\n",
       "         [149, 165, 181],\n",
       "         [129, 144, 162],\n",
       "         ...,\n",
       "         [161, 178, 214],\n",
       "         [157, 177, 212],\n",
       "         [154, 174, 209]],\n",
       "\n",
       "        ...,\n",
       "\n",
       "        [[ 74,  84,  80],\n",
       "         [ 76,  85,  81],\n",
       "         [ 78,  85,  82],\n",
       "         ...,\n",
       "         [ 71,  75,  78],\n",
       "         [ 68,  72,  75],\n",
       "         [ 61,  65,  68]],\n",
       "\n",
       "        [[ 68,  76,  77],\n",
       "         [ 69,  77,  78],\n",
       "         [ 72,  79,  78],\n",
       "         ...,\n",
       "         [ 76,  80,  83],\n",
       "         [ 71,  75,  78],\n",
       "         [ 71,  75,  78]],\n",
       "\n",
       "        [[ 67,  75,  78],\n",
       "         [ 68,  76,  79],\n",
       "         [ 69,  75,  76],\n",
       "         ...,\n",
       "         [ 75,  79,  82],\n",
       "         [ 71,  75,  78],\n",
       "         [ 73,  77,  80]]]], dtype=uint8)"
      ]
     },
     "execution_count": 12,
     "metadata": {},
     "output_type": "execute_result"
    }
   ],
   "source": [
    "X_train[:5]"
   ]
  },
  {
   "cell_type": "code",
   "execution_count": 13,
   "id": "e1c42faa-2837-4eab-b0b5-54b91af32095",
   "metadata": {},
   "outputs": [],
   "source": [
    "# normalize the values \n",
    "X_train = X_train / 255 \n",
    "X_test = X_test / 255"
   ]
  },
  {
   "cell_type": "code",
   "execution_count": 14,
   "id": "77ce4024-8d08-4f6e-88be-4e2af5900246",
   "metadata": {},
   "outputs": [
    {
     "data": {
      "text/plain": [
       "array([[[[0.23137255, 0.24313725, 0.24705882],\n",
       "         [0.16862745, 0.18039216, 0.17647059],\n",
       "         [0.19607843, 0.18823529, 0.16862745],\n",
       "         ...,\n",
       "         [0.61960784, 0.51764706, 0.42352941],\n",
       "         [0.59607843, 0.49019608, 0.4       ],\n",
       "         [0.58039216, 0.48627451, 0.40392157]],\n",
       "\n",
       "        [[0.0627451 , 0.07843137, 0.07843137],\n",
       "         [0.        , 0.        , 0.        ],\n",
       "         [0.07058824, 0.03137255, 0.        ],\n",
       "         ...,\n",
       "         [0.48235294, 0.34509804, 0.21568627],\n",
       "         [0.46666667, 0.3254902 , 0.19607843],\n",
       "         [0.47843137, 0.34117647, 0.22352941]],\n",
       "\n",
       "        [[0.09803922, 0.09411765, 0.08235294],\n",
       "         [0.0627451 , 0.02745098, 0.        ],\n",
       "         [0.19215686, 0.10588235, 0.03137255],\n",
       "         ...,\n",
       "         [0.4627451 , 0.32941176, 0.19607843],\n",
       "         [0.47058824, 0.32941176, 0.19607843],\n",
       "         [0.42745098, 0.28627451, 0.16470588]],\n",
       "\n",
       "        ...,\n",
       "\n",
       "        [[0.81568627, 0.66666667, 0.37647059],\n",
       "         [0.78823529, 0.6       , 0.13333333],\n",
       "         [0.77647059, 0.63137255, 0.10196078],\n",
       "         ...,\n",
       "         [0.62745098, 0.52156863, 0.2745098 ],\n",
       "         [0.21960784, 0.12156863, 0.02745098],\n",
       "         [0.20784314, 0.13333333, 0.07843137]],\n",
       "\n",
       "        [[0.70588235, 0.54509804, 0.37647059],\n",
       "         [0.67843137, 0.48235294, 0.16470588],\n",
       "         [0.72941176, 0.56470588, 0.11764706],\n",
       "         ...,\n",
       "         [0.72156863, 0.58039216, 0.36862745],\n",
       "         [0.38039216, 0.24313725, 0.13333333],\n",
       "         [0.3254902 , 0.20784314, 0.13333333]],\n",
       "\n",
       "        [[0.69411765, 0.56470588, 0.45490196],\n",
       "         [0.65882353, 0.50588235, 0.36862745],\n",
       "         [0.70196078, 0.55686275, 0.34117647],\n",
       "         ...,\n",
       "         [0.84705882, 0.72156863, 0.54901961],\n",
       "         [0.59215686, 0.4627451 , 0.32941176],\n",
       "         [0.48235294, 0.36078431, 0.28235294]]],\n",
       "\n",
       "\n",
       "       [[[0.60392157, 0.69411765, 0.73333333],\n",
       "         [0.49411765, 0.5372549 , 0.53333333],\n",
       "         [0.41176471, 0.40784314, 0.37254902],\n",
       "         ...,\n",
       "         [0.35686275, 0.37254902, 0.27843137],\n",
       "         [0.34117647, 0.35294118, 0.27843137],\n",
       "         [0.30980392, 0.31764706, 0.2745098 ]],\n",
       "\n",
       "        [[0.54901961, 0.62745098, 0.6627451 ],\n",
       "         [0.56862745, 0.6       , 0.60392157],\n",
       "         [0.49019608, 0.49019608, 0.4627451 ],\n",
       "         ...,\n",
       "         [0.37647059, 0.38823529, 0.30588235],\n",
       "         [0.30196078, 0.31372549, 0.24313725],\n",
       "         [0.27843137, 0.28627451, 0.23921569]],\n",
       "\n",
       "        [[0.54901961, 0.60784314, 0.64313725],\n",
       "         [0.54509804, 0.57254902, 0.58431373],\n",
       "         [0.45098039, 0.45098039, 0.43921569],\n",
       "         ...,\n",
       "         [0.30980392, 0.32156863, 0.25098039],\n",
       "         [0.26666667, 0.2745098 , 0.21568627],\n",
       "         [0.2627451 , 0.27058824, 0.21568627]],\n",
       "\n",
       "        ...,\n",
       "\n",
       "        [[0.68627451, 0.65490196, 0.65098039],\n",
       "         [0.61176471, 0.60392157, 0.62745098],\n",
       "         [0.60392157, 0.62745098, 0.66666667],\n",
       "         ...,\n",
       "         [0.16470588, 0.13333333, 0.14117647],\n",
       "         [0.23921569, 0.20784314, 0.22352941],\n",
       "         [0.36470588, 0.3254902 , 0.35686275]],\n",
       "\n",
       "        [[0.64705882, 0.60392157, 0.50196078],\n",
       "         [0.61176471, 0.59607843, 0.50980392],\n",
       "         [0.62352941, 0.63137255, 0.55686275],\n",
       "         ...,\n",
       "         [0.40392157, 0.36470588, 0.37647059],\n",
       "         [0.48235294, 0.44705882, 0.47058824],\n",
       "         [0.51372549, 0.4745098 , 0.51372549]],\n",
       "\n",
       "        [[0.63921569, 0.58039216, 0.47058824],\n",
       "         [0.61960784, 0.58039216, 0.47843137],\n",
       "         [0.63921569, 0.61176471, 0.52156863],\n",
       "         ...,\n",
       "         [0.56078431, 0.52156863, 0.54509804],\n",
       "         [0.56078431, 0.5254902 , 0.55686275],\n",
       "         [0.56078431, 0.52156863, 0.56470588]]],\n",
       "\n",
       "\n",
       "       [[[1.        , 1.        , 1.        ],\n",
       "         [0.99215686, 0.99215686, 0.99215686],\n",
       "         [0.99215686, 0.99215686, 0.99215686],\n",
       "         ...,\n",
       "         [0.99215686, 0.99215686, 0.99215686],\n",
       "         [0.99215686, 0.99215686, 0.99215686],\n",
       "         [0.99215686, 0.99215686, 0.99215686]],\n",
       "\n",
       "        [[1.        , 1.        , 1.        ],\n",
       "         [1.        , 1.        , 1.        ],\n",
       "         [1.        , 1.        , 1.        ],\n",
       "         ...,\n",
       "         [1.        , 1.        , 1.        ],\n",
       "         [1.        , 1.        , 1.        ],\n",
       "         [1.        , 1.        , 1.        ]],\n",
       "\n",
       "        [[1.        , 1.        , 1.        ],\n",
       "         [0.99607843, 0.99607843, 0.99607843],\n",
       "         [0.99607843, 0.99607843, 0.99607843],\n",
       "         ...,\n",
       "         [0.99607843, 0.99607843, 0.99607843],\n",
       "         [0.99607843, 0.99607843, 0.99607843],\n",
       "         [0.99607843, 0.99607843, 0.99607843]],\n",
       "\n",
       "        ...,\n",
       "\n",
       "        [[0.44313725, 0.47058824, 0.43921569],\n",
       "         [0.43529412, 0.4627451 , 0.43529412],\n",
       "         [0.41176471, 0.43921569, 0.41568627],\n",
       "         ...,\n",
       "         [0.28235294, 0.31764706, 0.31372549],\n",
       "         [0.28235294, 0.31372549, 0.30980392],\n",
       "         [0.28235294, 0.31372549, 0.30980392]],\n",
       "\n",
       "        [[0.43529412, 0.4627451 , 0.43137255],\n",
       "         [0.40784314, 0.43529412, 0.40784314],\n",
       "         [0.38823529, 0.41568627, 0.38431373],\n",
       "         ...,\n",
       "         [0.26666667, 0.29411765, 0.28627451],\n",
       "         [0.2745098 , 0.29803922, 0.29411765],\n",
       "         [0.30588235, 0.32941176, 0.32156863]],\n",
       "\n",
       "        [[0.41568627, 0.44313725, 0.41176471],\n",
       "         [0.38823529, 0.41568627, 0.38431373],\n",
       "         [0.37254902, 0.4       , 0.36862745],\n",
       "         ...,\n",
       "         [0.30588235, 0.33333333, 0.3254902 ],\n",
       "         [0.30980392, 0.33333333, 0.3254902 ],\n",
       "         [0.31372549, 0.3372549 , 0.32941176]]],\n",
       "\n",
       "\n",
       "       [[[0.10980392, 0.09803922, 0.03921569],\n",
       "         [0.14509804, 0.13333333, 0.0745098 ],\n",
       "         [0.14901961, 0.1372549 , 0.07843137],\n",
       "         ...,\n",
       "         [0.29803922, 0.2627451 , 0.15294118],\n",
       "         [0.31764706, 0.28235294, 0.16862745],\n",
       "         [0.33333333, 0.29803922, 0.18431373]],\n",
       "\n",
       "        [[0.12941176, 0.10980392, 0.05098039],\n",
       "         [0.13333333, 0.11764706, 0.05490196],\n",
       "         [0.1254902 , 0.10588235, 0.04705882],\n",
       "         ...,\n",
       "         [0.37254902, 0.32156863, 0.21568627],\n",
       "         [0.37647059, 0.32156863, 0.21960784],\n",
       "         [0.33333333, 0.28235294, 0.17647059]],\n",
       "\n",
       "        [[0.15294118, 0.1254902 , 0.05882353],\n",
       "         [0.15686275, 0.12941176, 0.06666667],\n",
       "         [0.22352941, 0.19607843, 0.12941176],\n",
       "         ...,\n",
       "         [0.36470588, 0.29803922, 0.20392157],\n",
       "         [0.41960784, 0.34901961, 0.25882353],\n",
       "         [0.37254902, 0.30196078, 0.21176471]],\n",
       "\n",
       "        ...,\n",
       "\n",
       "        [[0.3254902 , 0.28627451, 0.20392157],\n",
       "         [0.34117647, 0.30196078, 0.21960784],\n",
       "         [0.32941176, 0.29019608, 0.20392157],\n",
       "         ...,\n",
       "         [0.38823529, 0.36470588, 0.2745098 ],\n",
       "         [0.35294118, 0.32941176, 0.23921569],\n",
       "         [0.31764706, 0.29411765, 0.20392157]],\n",
       "\n",
       "        [[0.34509804, 0.28235294, 0.2       ],\n",
       "         [0.35294118, 0.29019608, 0.20392157],\n",
       "         [0.36470588, 0.30196078, 0.21960784],\n",
       "         ...,\n",
       "         [0.31372549, 0.29019608, 0.20784314],\n",
       "         [0.29803922, 0.2745098 , 0.19215686],\n",
       "         [0.32156863, 0.29803922, 0.21568627]],\n",
       "\n",
       "        [[0.38039216, 0.30588235, 0.21960784],\n",
       "         [0.36862745, 0.29411765, 0.20784314],\n",
       "         [0.36470588, 0.29411765, 0.20784314],\n",
       "         ...,\n",
       "         [0.21176471, 0.18431373, 0.10980392],\n",
       "         [0.24705882, 0.21960784, 0.14509804],\n",
       "         [0.28235294, 0.25490196, 0.18039216]]],\n",
       "\n",
       "\n",
       "       [[[0.66666667, 0.70588235, 0.77647059],\n",
       "         [0.65882353, 0.69803922, 0.76862745],\n",
       "         [0.69411765, 0.7254902 , 0.79607843],\n",
       "         ...,\n",
       "         [0.63529412, 0.70196078, 0.84313725],\n",
       "         [0.61960784, 0.69803922, 0.83921569],\n",
       "         [0.61568627, 0.69411765, 0.83137255]],\n",
       "\n",
       "        [[0.65882353, 0.70980392, 0.77647059],\n",
       "         [0.6745098 , 0.7254902 , 0.78823529],\n",
       "         [0.67058824, 0.71764706, 0.78431373],\n",
       "         ...,\n",
       "         [0.62352941, 0.69411765, 0.83137255],\n",
       "         [0.61176471, 0.69019608, 0.82745098],\n",
       "         [0.60392157, 0.68235294, 0.81960784]],\n",
       "\n",
       "        [[0.60392157, 0.66666667, 0.72941176],\n",
       "         [0.58431373, 0.64705882, 0.70980392],\n",
       "         [0.50588235, 0.56470588, 0.63529412],\n",
       "         ...,\n",
       "         [0.63137255, 0.69803922, 0.83921569],\n",
       "         [0.61568627, 0.69411765, 0.83137255],\n",
       "         [0.60392157, 0.68235294, 0.81960784]],\n",
       "\n",
       "        ...,\n",
       "\n",
       "        [[0.29019608, 0.32941176, 0.31372549],\n",
       "         [0.29803922, 0.33333333, 0.31764706],\n",
       "         [0.30588235, 0.33333333, 0.32156863],\n",
       "         ...,\n",
       "         [0.27843137, 0.29411765, 0.30588235],\n",
       "         [0.26666667, 0.28235294, 0.29411765],\n",
       "         [0.23921569, 0.25490196, 0.26666667]],\n",
       "\n",
       "        [[0.26666667, 0.29803922, 0.30196078],\n",
       "         [0.27058824, 0.30196078, 0.30588235],\n",
       "         [0.28235294, 0.30980392, 0.30588235],\n",
       "         ...,\n",
       "         [0.29803922, 0.31372549, 0.3254902 ],\n",
       "         [0.27843137, 0.29411765, 0.30588235],\n",
       "         [0.27843137, 0.29411765, 0.30588235]],\n",
       "\n",
       "        [[0.2627451 , 0.29411765, 0.30588235],\n",
       "         [0.26666667, 0.29803922, 0.30980392],\n",
       "         [0.27058824, 0.29411765, 0.29803922],\n",
       "         ...,\n",
       "         [0.29411765, 0.30980392, 0.32156863],\n",
       "         [0.27843137, 0.29411765, 0.30588235],\n",
       "         [0.28627451, 0.30196078, 0.31372549]]]])"
      ]
     },
     "execution_count": 14,
     "metadata": {},
     "output_type": "execute_result"
    }
   ],
   "source": [
    "X_train[:5]"
   ]
  },
  {
   "cell_type": "code",
   "execution_count": 16,
   "id": "ba195ba3-6a51-454e-a5d5-813f7e50d101",
   "metadata": {},
   "outputs": [
    {
     "name": "stderr",
     "output_type": "stream",
     "text": [
      "2024-07-17 11:13:05.199610: I tensorflow/core/platform/cpu_feature_guard.cc:193] This TensorFlow binary is optimized with oneAPI Deep Neural Network Library (oneDNN) to use the following CPU instructions in performance-critical operations:  SSE4.1 SSE4.2 AVX AVX2 FMA\n",
      "To enable them in other operations, rebuild TensorFlow with the appropriate compiler flags.\n"
     ]
    }
   ],
   "source": [
    "# Artificial Neural Network for Image Classification \n",
    "# if y is one-hot encoded then use categorial_crossentropy otherwise if index use sparse_categorial_crossentropy\n",
    "# softmax is used because of multi-classification problem. All probs add up to 1. Frog can be 0.75 and others can add up to be 0.25. \n",
    "ann = models.Sequential([\n",
    "\n",
    "    layers.Flatten(input_shape=(32, 32, 3)), \n",
    "    layers.Dense(3000, activation=\"relu\"),\n",
    "    layers.Dense(1000, activation=\"relu\"),\n",
    "    layers.Dense(10, activation=\"softmax\")\n",
    "    \n",
    "])\n",
    "\n",
    "\"\"\"\n",
    "Better Generalization: Recent research suggests SGD can lead to models\n",
    "that perform better on unseen data (generalize better) compared to Adam [1]. This can be crucial for real-world applications.\n",
    "\n",
    "Less Hyperparameter Tuning: SGD requires tuning the learning rate,\n",
    "but Adam requires tuning the learning rate, beta1, and beta2. This can make SGD simpler to set up,\n",
    "especially if you're new to machine learning.\n",
    "\n",
    "Faster Training (Sometimes): SGD can be faster to train, especially \n",
    "for large datasets, if tuned well [2]. However, Adam often converges quickly initially.\n",
    "\"\"\"\n",
    "ann.compile(optimizer='SGD',\n",
    "              loss='sparse_categorical_crossentropy',\n",
    "              metrics=['accuracy'])"
   ]
  },
  {
   "cell_type": "code",
   "execution_count": 17,
   "id": "c2c0d444-1b7e-41fc-b753-3f5d297c0a04",
   "metadata": {},
   "outputs": [
    {
     "name": "stdout",
     "output_type": "stream",
     "text": [
      "Epoch 1/5\n",
      "1563/1563 [==============================] - 30s 19ms/step - loss: 1.8140 - accuracy: 0.3550\n",
      "Epoch 2/5\n",
      "1563/1563 [==============================] - 31s 20ms/step - loss: 1.6233 - accuracy: 0.4265\n",
      "Epoch 3/5\n",
      "1563/1563 [==============================] - 30s 19ms/step - loss: 1.5430 - accuracy: 0.4561\n",
      "Epoch 4/5\n",
      "1563/1563 [==============================] - 30s 19ms/step - loss: 1.4809 - accuracy: 0.4782\n",
      "Epoch 5/5\n",
      "1563/1563 [==============================] - 30s 19ms/step - loss: 1.4329 - accuracy: 0.4947\n"
     ]
    },
    {
     "data": {
      "text/plain": [
       "<keras.callbacks.History at 0x7fd8f0374fd0>"
      ]
     },
     "execution_count": 17,
     "metadata": {},
     "output_type": "execute_result"
    }
   ],
   "source": [
    "ann.fit(X_train, y_train, epochs=5)"
   ]
  },
  {
   "cell_type": "code",
   "execution_count": 19,
   "id": "225f2664-3ea5-417a-b942-bb53d07b1d5f",
   "metadata": {},
   "outputs": [],
   "source": [
    "cnn = models.Sequential([\n",
    "  \n",
    "  layers.Conv2D(filters=32, kernel_size=(3, 3), activation=\"relu\", input_shape=(32, 32, 3)), \n",
    "  layers.MaxPooling2D((2, 2)), \n",
    "\n",
    "  layers.Conv2D(filters=64, kernel_size=(3, 3), activation='relu'),\n",
    "  layers.MaxPooling2D((2, 2)),  \n",
    "\n",
    "  layers.Flatten(), \n",
    "  layers.Dense(64, activation=\"relu\"), \n",
    "  layers.Dense(10, activation=\"softmax\") \n",
    "])\n"
   ]
  },
  {
   "cell_type": "code",
   "execution_count": 20,
   "id": "fe09084e-6fd8-4b10-8b8c-1e6e02eac08d",
   "metadata": {},
   "outputs": [],
   "source": [
    "cnn.compile(optimizer='adam',\n",
    "              loss='sparse_categorical_crossentropy',\n",
    "              metrics=['accuracy'])"
   ]
  },
  {
   "cell_type": "code",
   "execution_count": 21,
   "id": "31fda621-2fe6-4f21-90e2-02f61236f465",
   "metadata": {},
   "outputs": [
    {
     "name": "stdout",
     "output_type": "stream",
     "text": [
      "Epoch 1/5\n",
      "1563/1563 [==============================] - 18s 11ms/step - loss: 1.5533 - accuracy: 0.4355\n",
      "Epoch 2/5\n",
      "1563/1563 [==============================] - 19s 12ms/step - loss: 1.1878 - accuracy: 0.5825\n",
      "Epoch 3/5\n",
      "1563/1563 [==============================] - 19s 12ms/step - loss: 1.0469 - accuracy: 0.6346\n",
      "Epoch 4/5\n",
      "1563/1563 [==============================] - 20s 13ms/step - loss: 0.9628 - accuracy: 0.6661\n",
      "Epoch 5/5\n",
      "1563/1563 [==============================] - 21s 13ms/step - loss: 0.8946 - accuracy: 0.6891\n"
     ]
    },
    {
     "data": {
      "text/plain": [
       "<keras.callbacks.History at 0x7fd92138f4c0>"
      ]
     },
     "execution_count": 21,
     "metadata": {},
     "output_type": "execute_result"
    }
   ],
   "source": [
    "cnn.fit(X_train, y_train, epochs=5)"
   ]
  },
  {
   "cell_type": "code",
   "execution_count": 22,
   "id": "cec47672-e5e6-4aa4-abf8-b26cd7a8a5e5",
   "metadata": {},
   "outputs": [
    {
     "name": "stdout",
     "output_type": "stream",
     "text": [
      "313/313 [==============================] - 2s 7ms/step - loss: 1.0059 - accuracy: 0.6562\n"
     ]
    },
    {
     "data": {
      "text/plain": [
       "[1.005904197692871, 0.6561999917030334]"
      ]
     },
     "execution_count": 22,
     "metadata": {},
     "output_type": "execute_result"
    }
   ],
   "source": [
    "cnn.evaluate(X_test, y_test)"
   ]
  },
  {
   "cell_type": "code",
   "execution_count": 23,
   "id": "5e62431b-6ee9-4990-ae1f-5388fc3b175e",
   "metadata": {},
   "outputs": [
    {
     "name": "stdout",
     "output_type": "stream",
     "text": [
      "313/313 [==============================] - 2s 6ms/step\n"
     ]
    }
   ],
   "source": [
    "y_pred = cnn.predict(X_test)"
   ]
  },
  {
   "cell_type": "code",
   "execution_count": 25,
   "id": "c154262f-cc5c-4aad-86d1-07cd4af78931",
   "metadata": {},
   "outputs": [
    {
     "data": {
      "text/plain": [
       "array([[4.63699340e-04, 1.05393345e-04, 5.75996153e-02, 5.70407569e-01,\n",
       "        4.20721108e-03, 1.85457066e-01, 1.62718043e-01, 5.59013570e-04,\n",
       "        1.83973778e-02, 8.50104116e-05],\n",
       "       [7.89040048e-03, 4.38439548e-02, 1.97503774e-04, 8.01090391e-06,\n",
       "        1.91576164e-05, 1.86482126e-07, 3.08509311e-06, 4.41051043e-06,\n",
       "        9.28978622e-01, 1.90546270e-02],\n",
       "       [4.15391102e-02, 7.21480474e-02, 1.27845239e-02, 1.22793764e-02,\n",
       "        5.68607030e-03, 3.66601249e-04, 1.58245151e-03, 1.69038470e-03,\n",
       "        8.26799393e-01, 2.51240637e-02],\n",
       "       [7.26657987e-01, 6.54458851e-02, 3.55975926e-02, 1.28757639e-03,\n",
       "        8.88385251e-03, 4.31790831e-05, 1.05427960e-02, 3.87721142e-04,\n",
       "        1.47429571e-01, 3.72381276e-03],\n",
       "       [1.03149123e-05, 2.84931662e-06, 2.02497635e-02, 2.51113698e-02,\n",
       "        3.07078063e-01, 1.11050745e-02, 6.36284173e-01, 1.42211662e-04,\n",
       "        1.33593521e-05, 2.76966534e-06]], dtype=float32)"
      ]
     },
     "execution_count": 25,
     "metadata": {},
     "output_type": "execute_result"
    }
   ],
   "source": [
    "y_pred[:5]"
   ]
  },
  {
   "cell_type": "code",
   "execution_count": 26,
   "id": "9901eaa4-b9e5-4b43-bb7b-e1ce99fe03c8",
   "metadata": {},
   "outputs": [],
   "source": [
    "y_classes = [np.argmax(element) for element in y_pred]"
   ]
  },
  {
   "cell_type": "code",
   "execution_count": 31,
   "id": "3ca6bce2-74b6-422d-b0d4-d40f955e13e6",
   "metadata": {},
   "outputs": [
    {
     "data": {
      "text/plain": [
       "[3, 8, 8, 0, 6, 6, 1, 6, 3, 1]"
      ]
     },
     "execution_count": 31,
     "metadata": {},
     "output_type": "execute_result"
    }
   ],
   "source": [
    "y_classes[:10]"
   ]
  },
  {
   "cell_type": "code",
   "execution_count": 30,
   "id": "cf5867e9-4134-4855-a891-fa1922cfd51c",
   "metadata": {},
   "outputs": [
    {
     "data": {
      "text/plain": [
       "array([[3],\n",
       "       [8],\n",
       "       [8],\n",
       "       [0],\n",
       "       [6],\n",
       "       [6],\n",
       "       [1],\n",
       "       [6],\n",
       "       [3],\n",
       "       [1]], dtype=uint8)"
      ]
     },
     "execution_count": 30,
     "metadata": {},
     "output_type": "execute_result"
    }
   ],
   "source": [
    "y_test[:10]"
   ]
  },
  {
   "cell_type": "code",
   "execution_count": null,
   "id": "4a602dc0-3fbd-420f-8b57-9b51119c75fe",
   "metadata": {},
   "outputs": [],
   "source": []
  }
 ],
 "metadata": {
  "kernelspec": {
   "display_name": "Python 3 (ipykernel)",
   "language": "python",
   "name": "python3"
  },
  "language_info": {
   "codemirror_mode": {
    "name": "ipython",
    "version": 3
   },
   "file_extension": ".py",
   "mimetype": "text/x-python",
   "name": "python",
   "nbconvert_exporter": "python",
   "pygments_lexer": "ipython3",
   "version": "3.10.13"
  }
 },
 "nbformat": 4,
 "nbformat_minor": 5
}
