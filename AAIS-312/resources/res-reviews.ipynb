{
 "cells": [
  {
   "cell_type": "code",
   "execution_count": 2,
   "id": "b29dcaac-6aa8-4a1e-a642-39c24a22087c",
   "metadata": {},
   "outputs": [],
   "source": [
    "import numpy as np\n",
    "from tensorflow.keras.preprocessing.text import one_hot\n",
    "from tensorflow.keras.preprocessing.sequence import pad_sequences\n",
    "from tensorflow.keras.models import Sequential\n",
    "from tensorflow.keras.layers import Dense\n",
    "from tensorflow.keras.layers import Flatten\n",
    "from tensorflow.keras.layers import Embedding"
   ]
  },
  {
   "cell_type": "code",
   "execution_count": 3,
   "id": "7a02a7b2-ae24-42f2-8208-e10011ea72d4",
   "metadata": {},
   "outputs": [],
   "source": [
    "reviews = ['nice food',\n",
    "        'amazing restaurant',\n",
    "        'too good',\n",
    "        'just loved it!',\n",
    "        'will go again',\n",
    "        'horrible food',\n",
    "        'never go there',\n",
    "        'poor service',\n",
    "        'poor quality',\n",
    "        'needs improvement']\n",
    "\n",
    "sentiment = np.array([1,1,1,1,1,0,0,0,0,0])"
   ]
  },
  {
   "cell_type": "code",
   "execution_count": 6,
   "id": "da3865d6-b2f1-4e88-a096-98e6f62b343c",
   "metadata": {},
   "outputs": [
    {
     "data": {
      "text/plain": [
       "[14, 25]"
      ]
     },
     "execution_count": 6,
     "metadata": {},
     "output_type": "execute_result"
    }
   ],
   "source": [
    "one_hot(\"amazing restaurant\", 30) "
   ]
  },
  {
   "cell_type": "code",
   "execution_count": 7,
   "id": "8f936e03-80c5-4f77-b19a-78dc8136d434",
   "metadata": {},
   "outputs": [],
   "source": [
    "vocab_size = 30 \n",
    "encoded_reviews = [one_hot(d, vocab_size) for d in reviews]"
   ]
  },
  {
   "cell_type": "code",
   "execution_count": 8,
   "id": "a9bc4757-d086-497e-9042-912135c03f08",
   "metadata": {},
   "outputs": [
    {
     "data": {
      "text/plain": [
       "[[3, 18],\n",
       " [14, 25],\n",
       " [27, 15],\n",
       " [29, 15, 6],\n",
       " [6, 18, 22],\n",
       " [14, 18],\n",
       " [2, 18, 15],\n",
       " [29, 3],\n",
       " [29, 14],\n",
       " [24, 16]]"
      ]
     },
     "execution_count": 8,
     "metadata": {},
     "output_type": "execute_result"
    }
   ],
   "source": [
    "encoded_reviews"
   ]
  },
  {
   "cell_type": "code",
   "execution_count": 10,
   "id": "77167913-69b4-4327-95f4-34049a177ed8",
   "metadata": {},
   "outputs": [],
   "source": [
    "max_length = 4 \n",
    "padded_reviews = pad_sequences(encoded_reviews, maxlen=max_length, padding=\"post\") "
   ]
  },
  {
   "cell_type": "code",
   "execution_count": 11,
   "id": "7eb9ad97-14e2-4bbf-8854-7ab83ce14f97",
   "metadata": {},
   "outputs": [
    {
     "data": {
      "text/plain": [
       "array([[ 3, 18,  0,  0],\n",
       "       [14, 25,  0,  0],\n",
       "       [27, 15,  0,  0],\n",
       "       [29, 15,  6,  0],\n",
       "       [ 6, 18, 22,  0],\n",
       "       [14, 18,  0,  0],\n",
       "       [ 2, 18, 15,  0],\n",
       "       [29,  3,  0,  0],\n",
       "       [29, 14,  0,  0],\n",
       "       [24, 16,  0,  0]], dtype=int32)"
      ]
     },
     "execution_count": 11,
     "metadata": {},
     "output_type": "execute_result"
    }
   ],
   "source": [
    "padded_reviews"
   ]
  },
  {
   "cell_type": "code",
   "execution_count": 16,
   "id": "7f98faa9-ae79-4c8b-ab6a-f54a0674e9b5",
   "metadata": {},
   "outputs": [],
   "source": [
    "embeded_vector_size = 5 \n",
    "model = Sequential() \n",
    "model.add(Embedding(vocab_size, embeded_vector_size, input_length=max_length, name = \"embedding\"))"
   ]
  },
  {
   "cell_type": "code",
   "execution_count": 17,
   "id": "ed4edf7b-cdeb-498d-8f20-177e57d3bcd7",
   "metadata": {},
   "outputs": [],
   "source": [
    "model.add(Flatten()) "
   ]
  },
  {
   "cell_type": "code",
   "execution_count": 18,
   "id": "e5967a80-4acb-412d-bef8-8a354ad49fd0",
   "metadata": {},
   "outputs": [],
   "source": [
    "model.add(Dense(1, activation=\"sigmoid\"))"
   ]
  },
  {
   "cell_type": "code",
   "execution_count": 19,
   "id": "63969180-fcb7-4603-9ea8-c662c80a4a6b",
   "metadata": {},
   "outputs": [
    {
     "name": "stdout",
     "output_type": "stream",
     "text": [
      "Model: \"sequential_4\"\n",
      "_________________________________________________________________\n",
      " Layer (type)                Output Shape              Param #   \n",
      "=================================================================\n",
      " embedding (Embedding)       (None, 4, 5)              150       \n",
      "                                                                 \n",
      " flatten (Flatten)           (None, 20)                0         \n",
      "                                                                 \n",
      " dense (Dense)               (None, 1)                 21        \n",
      "                                                                 \n",
      "=================================================================\n",
      "Total params: 171\n",
      "Trainable params: 171\n",
      "Non-trainable params: 0\n",
      "_________________________________________________________________\n",
      "None\n"
     ]
    }
   ],
   "source": [
    "model.compile(optimizer='adam', loss='binary_crossentropy', metrics=['accuracy'])\n",
    "print(model.summary())"
   ]
  },
  {
   "cell_type": "code",
   "execution_count": 20,
   "id": "bc74875b-bebc-4f60-a569-5bd13b8324f9",
   "metadata": {},
   "outputs": [],
   "source": [
    "X = padded_reviews\n",
    "y = sentiment"
   ]
  },
  {
   "cell_type": "code",
   "execution_count": 21,
   "id": "d612210b-a576-43cb-9c30-f642086ed58f",
   "metadata": {},
   "outputs": [
    {
     "name": "stdout",
     "output_type": "stream",
     "text": [
      "Epoch 1/50\n",
      "1/1 [==============================] - 0s 391ms/step - loss: 0.6985 - accuracy: 0.4000\n",
      "Epoch 2/50\n",
      "1/1 [==============================] - 0s 3ms/step - loss: 0.6975 - accuracy: 0.4000\n",
      "Epoch 3/50\n",
      "1/1 [==============================] - 0s 3ms/step - loss: 0.6964 - accuracy: 0.4000\n",
      "Epoch 4/50\n",
      "1/1 [==============================] - 0s 2ms/step - loss: 0.6954 - accuracy: 0.4000\n",
      "Epoch 5/50\n",
      "1/1 [==============================] - 0s 3ms/step - loss: 0.6944 - accuracy: 0.4000\n",
      "Epoch 6/50\n",
      "1/1 [==============================] - 0s 2ms/step - loss: 0.6934 - accuracy: 0.5000\n",
      "Epoch 7/50\n",
      "1/1 [==============================] - 0s 2ms/step - loss: 0.6924 - accuracy: 0.6000\n",
      "Epoch 8/50\n",
      "1/1 [==============================] - 0s 2ms/step - loss: 0.6914 - accuracy: 0.6000\n",
      "Epoch 9/50\n",
      "1/1 [==============================] - 0s 2ms/step - loss: 0.6903 - accuracy: 0.7000\n",
      "Epoch 10/50\n",
      "1/1 [==============================] - 0s 2ms/step - loss: 0.6893 - accuracy: 0.7000\n",
      "Epoch 11/50\n",
      "1/1 [==============================] - 0s 2ms/step - loss: 0.6883 - accuracy: 0.7000\n",
      "Epoch 12/50\n",
      "1/1 [==============================] - 0s 3ms/step - loss: 0.6873 - accuracy: 0.7000\n",
      "Epoch 13/50\n",
      "1/1 [==============================] - 0s 2ms/step - loss: 0.6863 - accuracy: 0.7000\n",
      "Epoch 14/50\n",
      "1/1 [==============================] - 0s 2ms/step - loss: 0.6853 - accuracy: 0.8000\n",
      "Epoch 15/50\n",
      "1/1 [==============================] - 0s 2ms/step - loss: 0.6843 - accuracy: 0.8000\n",
      "Epoch 16/50\n",
      "1/1 [==============================] - 0s 2ms/step - loss: 0.6833 - accuracy: 0.8000\n",
      "Epoch 17/50\n",
      "1/1 [==============================] - 0s 2ms/step - loss: 0.6823 - accuracy: 0.8000\n",
      "Epoch 18/50\n",
      "1/1 [==============================] - 0s 2ms/step - loss: 0.6813 - accuracy: 0.8000\n",
      "Epoch 19/50\n",
      "1/1 [==============================] - 0s 2ms/step - loss: 0.6803 - accuracy: 0.8000\n",
      "Epoch 20/50\n",
      "1/1 [==============================] - 0s 2ms/step - loss: 0.6793 - accuracy: 0.8000\n",
      "Epoch 21/50\n",
      "1/1 [==============================] - 0s 2ms/step - loss: 0.6783 - accuracy: 0.8000\n",
      "Epoch 22/50\n",
      "1/1 [==============================] - 0s 2ms/step - loss: 0.6773 - accuracy: 0.8000\n",
      "Epoch 23/50\n",
      "1/1 [==============================] - 0s 3ms/step - loss: 0.6763 - accuracy: 0.8000\n",
      "Epoch 24/50\n",
      "1/1 [==============================] - 0s 2ms/step - loss: 0.6753 - accuracy: 0.8000\n",
      "Epoch 25/50\n",
      "1/1 [==============================] - 0s 2ms/step - loss: 0.6743 - accuracy: 0.8000\n",
      "Epoch 26/50\n",
      "1/1 [==============================] - 0s 2ms/step - loss: 0.6732 - accuracy: 0.8000\n",
      "Epoch 27/50\n",
      "1/1 [==============================] - 0s 2ms/step - loss: 0.6722 - accuracy: 0.8000\n",
      "Epoch 28/50\n",
      "1/1 [==============================] - 0s 3ms/step - loss: 0.6712 - accuracy: 0.8000\n",
      "Epoch 29/50\n",
      "1/1 [==============================] - 0s 2ms/step - loss: 0.6702 - accuracy: 0.8000\n",
      "Epoch 30/50\n",
      "1/1 [==============================] - 0s 2ms/step - loss: 0.6691 - accuracy: 0.8000\n",
      "Epoch 31/50\n",
      "1/1 [==============================] - 0s 2ms/step - loss: 0.6681 - accuracy: 0.8000\n",
      "Epoch 32/50\n",
      "1/1 [==============================] - 0s 2ms/step - loss: 0.6670 - accuracy: 0.8000\n",
      "Epoch 33/50\n",
      "1/1 [==============================] - 0s 2ms/step - loss: 0.6660 - accuracy: 0.8000\n",
      "Epoch 34/50\n",
      "1/1 [==============================] - 0s 3ms/step - loss: 0.6649 - accuracy: 0.8000\n",
      "Epoch 35/50\n",
      "1/1 [==============================] - 0s 2ms/step - loss: 0.6639 - accuracy: 0.8000\n",
      "Epoch 36/50\n",
      "1/1 [==============================] - 0s 2ms/step - loss: 0.6628 - accuracy: 0.8000\n",
      "Epoch 37/50\n",
      "1/1 [==============================] - 0s 2ms/step - loss: 0.6617 - accuracy: 0.8000\n",
      "Epoch 38/50\n",
      "1/1 [==============================] - 0s 2ms/step - loss: 0.6606 - accuracy: 0.8000\n",
      "Epoch 39/50\n",
      "1/1 [==============================] - 0s 2ms/step - loss: 0.6596 - accuracy: 0.8000\n",
      "Epoch 40/50\n",
      "1/1 [==============================] - 0s 2ms/step - loss: 0.6585 - accuracy: 0.8000\n",
      "Epoch 41/50\n",
      "1/1 [==============================] - 0s 2ms/step - loss: 0.6574 - accuracy: 0.9000\n",
      "Epoch 42/50\n",
      "1/1 [==============================] - 0s 2ms/step - loss: 0.6563 - accuracy: 0.9000\n",
      "Epoch 43/50\n",
      "1/1 [==============================] - 0s 2ms/step - loss: 0.6552 - accuracy: 0.9000\n",
      "Epoch 44/50\n",
      "1/1 [==============================] - 0s 2ms/step - loss: 0.6541 - accuracy: 0.9000\n",
      "Epoch 45/50\n",
      "1/1 [==============================] - 0s 2ms/step - loss: 0.6529 - accuracy: 0.9000\n",
      "Epoch 46/50\n",
      "1/1 [==============================] - 0s 2ms/step - loss: 0.6518 - accuracy: 0.9000\n",
      "Epoch 47/50\n",
      "1/1 [==============================] - 0s 2ms/step - loss: 0.6507 - accuracy: 0.9000\n",
      "Epoch 48/50\n",
      "1/1 [==============================] - 0s 2ms/step - loss: 0.6495 - accuracy: 0.9000\n",
      "Epoch 49/50\n",
      "1/1 [==============================] - 0s 2ms/step - loss: 0.6484 - accuracy: 0.9000\n",
      "Epoch 50/50\n",
      "1/1 [==============================] - 0s 2ms/step - loss: 0.6473 - accuracy: 0.9000\n"
     ]
    },
    {
     "data": {
      "text/plain": [
       "<keras.callbacks.History at 0x7fed70e2d720>"
      ]
     },
     "execution_count": 21,
     "metadata": {},
     "output_type": "execute_result"
    }
   ],
   "source": [
    "model.fit(X, y, epochs=50) "
   ]
  },
  {
   "cell_type": "code",
   "execution_count": 24,
   "id": "4e0041e7-42b1-450c-9ff1-a9278b80cc2c",
   "metadata": {},
   "outputs": [
    {
     "name": "stdout",
     "output_type": "stream",
     "text": [
      "WARNING:tensorflow:Model was constructed with shape (None, 4) for input KerasTensor(type_spec=TensorSpec(shape=(None, 4), dtype=tf.float32, name='embedding_input'), name='embedding_input', description=\"created by layer 'embedding_input'\"), but it was called on an input with incompatible shape (None,).\n"
     ]
    },
    {
     "ename": "ValueError",
     "evalue": "in user code:\n\n    File \"/Users/azamsharp/Desktop/sample_project/env/lib/python3.10/site-packages/keras/engine/training.py\", line 2041, in predict_function  *\n        return step_function(self, iterator)\n    File \"/Users/azamsharp/Desktop/sample_project/env/lib/python3.10/site-packages/keras/engine/training.py\", line 2027, in step_function  **\n        outputs = model.distribute_strategy.run(run_step, args=(data,))\n    File \"/Users/azamsharp/Desktop/sample_project/env/lib/python3.10/site-packages/keras/engine/training.py\", line 2015, in run_step  **\n        outputs = model.predict_step(data)\n    File \"/Users/azamsharp/Desktop/sample_project/env/lib/python3.10/site-packages/keras/engine/training.py\", line 1983, in predict_step\n        return self(x, training=False)\n    File \"/Users/azamsharp/Desktop/sample_project/env/lib/python3.10/site-packages/keras/utils/traceback_utils.py\", line 70, in error_handler\n        raise e.with_traceback(filtered_tb) from None\n    File \"/Users/azamsharp/Desktop/sample_project/env/lib/python3.10/site-packages/keras/engine/input_spec.py\", line 277, in assert_input_compatibility\n        raise ValueError(\n\n    ValueError: Exception encountered when calling layer \"sequential_4\" \"                 f\"(type Sequential).\n    \n    Input 0 of layer \"dense\" is incompatible with the layer: expected axis -1 of input shape to have value 20, but received input with shape (None, 5)\n    \n    Call arguments received by layer \"sequential_4\" \"                 f\"(type Sequential):\n      • inputs=tf.Tensor(shape=(None,), dtype=string)\n      • training=False\n      • mask=None\n",
     "output_type": "error",
     "traceback": [
      "\u001b[0;31m---------------------------------------------------------------------------\u001b[0m",
      "\u001b[0;31mValueError\u001b[0m                                Traceback (most recent call last)",
      "Cell \u001b[0;32mIn[24], line 1\u001b[0m\n\u001b[0;32m----> 1\u001b[0m \u001b[43mmodel\u001b[49m\u001b[38;5;241;43m.\u001b[39;49m\u001b[43mpredict\u001b[49m\u001b[43m(\u001b[49m\u001b[43m[\u001b[49m\u001b[38;5;124;43m\"\u001b[39;49m\u001b[38;5;124;43mawful food\u001b[39;49m\u001b[38;5;124;43m\"\u001b[39;49m\u001b[43m]\u001b[49m\u001b[43m)\u001b[49m\n",
      "File \u001b[0;32m~/Desktop/sample_project/env/lib/python3.10/site-packages/keras/utils/traceback_utils.py:70\u001b[0m, in \u001b[0;36mfilter_traceback.<locals>.error_handler\u001b[0;34m(*args, **kwargs)\u001b[0m\n\u001b[1;32m     67\u001b[0m     filtered_tb \u001b[38;5;241m=\u001b[39m _process_traceback_frames(e\u001b[38;5;241m.\u001b[39m__traceback__)\n\u001b[1;32m     68\u001b[0m     \u001b[38;5;66;03m# To get the full stack trace, call:\u001b[39;00m\n\u001b[1;32m     69\u001b[0m     \u001b[38;5;66;03m# `tf.debugging.disable_traceback_filtering()`\u001b[39;00m\n\u001b[0;32m---> 70\u001b[0m     \u001b[38;5;28;01mraise\u001b[39;00m e\u001b[38;5;241m.\u001b[39mwith_traceback(filtered_tb) \u001b[38;5;28;01mfrom\u001b[39;00m \u001b[38;5;28;01mNone\u001b[39;00m\n\u001b[1;32m     71\u001b[0m \u001b[38;5;28;01mfinally\u001b[39;00m:\n\u001b[1;32m     72\u001b[0m     \u001b[38;5;28;01mdel\u001b[39;00m filtered_tb\n",
      "File \u001b[0;32m/var/folders/41/3fp48fh146l8pnjv7f3hhjk40000gn/T/__autograph_generated_fileyju99u6x.py:15\u001b[0m, in \u001b[0;36mouter_factory.<locals>.inner_factory.<locals>.tf__predict_function\u001b[0;34m(iterator)\u001b[0m\n\u001b[1;32m     13\u001b[0m \u001b[38;5;28;01mtry\u001b[39;00m:\n\u001b[1;32m     14\u001b[0m     do_return \u001b[38;5;241m=\u001b[39m \u001b[38;5;28;01mTrue\u001b[39;00m\n\u001b[0;32m---> 15\u001b[0m     retval_ \u001b[38;5;241m=\u001b[39m ag__\u001b[38;5;241m.\u001b[39mconverted_call(ag__\u001b[38;5;241m.\u001b[39mld(step_function), (ag__\u001b[38;5;241m.\u001b[39mld(\u001b[38;5;28mself\u001b[39m), ag__\u001b[38;5;241m.\u001b[39mld(iterator)), \u001b[38;5;28;01mNone\u001b[39;00m, fscope)\n\u001b[1;32m     16\u001b[0m \u001b[38;5;28;01mexcept\u001b[39;00m:\n\u001b[1;32m     17\u001b[0m     do_return \u001b[38;5;241m=\u001b[39m \u001b[38;5;28;01mFalse\u001b[39;00m\n",
      "\u001b[0;31mValueError\u001b[0m: in user code:\n\n    File \"/Users/azamsharp/Desktop/sample_project/env/lib/python3.10/site-packages/keras/engine/training.py\", line 2041, in predict_function  *\n        return step_function(self, iterator)\n    File \"/Users/azamsharp/Desktop/sample_project/env/lib/python3.10/site-packages/keras/engine/training.py\", line 2027, in step_function  **\n        outputs = model.distribute_strategy.run(run_step, args=(data,))\n    File \"/Users/azamsharp/Desktop/sample_project/env/lib/python3.10/site-packages/keras/engine/training.py\", line 2015, in run_step  **\n        outputs = model.predict_step(data)\n    File \"/Users/azamsharp/Desktop/sample_project/env/lib/python3.10/site-packages/keras/engine/training.py\", line 1983, in predict_step\n        return self(x, training=False)\n    File \"/Users/azamsharp/Desktop/sample_project/env/lib/python3.10/site-packages/keras/utils/traceback_utils.py\", line 70, in error_handler\n        raise e.with_traceback(filtered_tb) from None\n    File \"/Users/azamsharp/Desktop/sample_project/env/lib/python3.10/site-packages/keras/engine/input_spec.py\", line 277, in assert_input_compatibility\n        raise ValueError(\n\n    ValueError: Exception encountered when calling layer \"sequential_4\" \"                 f\"(type Sequential).\n    \n    Input 0 of layer \"dense\" is incompatible with the layer: expected axis -1 of input shape to have value 20, but received input with shape (None, 5)\n    \n    Call arguments received by layer \"sequential_4\" \"                 f\"(type Sequential):\n      • inputs=tf.Tensor(shape=(None,), dtype=string)\n      • training=False\n      • mask=None\n"
     ]
    }
   ],
   "source": [
    "model.predict([\"awful food\"])"
   ]
  },
  {
   "cell_type": "code",
   "execution_count": 25,
   "id": "e4a9c8c4-a033-4d0f-9c5a-f8cc78e2cdee",
   "metadata": {},
   "outputs": [
    {
     "data": {
      "text/plain": [
       "array([[ 3, 18,  0,  0],\n",
       "       [14, 25,  0,  0],\n",
       "       [27, 15,  0,  0],\n",
       "       [29, 15,  6,  0],\n",
       "       [ 6, 18, 22,  0],\n",
       "       [14, 18,  0,  0],\n",
       "       [ 2, 18, 15,  0],\n",
       "       [29,  3,  0,  0],\n",
       "       [29, 14,  0,  0],\n",
       "       [24, 16,  0,  0]], dtype=int32)"
      ]
     },
     "execution_count": 25,
     "metadata": {},
     "output_type": "execute_result"
    }
   ],
   "source": [
    "padding_reviews"
   ]
  },
  {
   "cell_type": "code",
   "execution_count": 29,
   "id": "2980909e-8cee-4217-9c7a-792b183437a6",
   "metadata": {},
   "outputs": [
    {
     "name": "stdout",
     "output_type": "stream",
     "text": [
      "1/1 [==============================] - 0s 24ms/step\n"
     ]
    }
   ],
   "source": [
    "prediction = model.predict([14, 25,  0,  0])"
   ]
  },
  {
   "cell_type": "code",
   "execution_count": 30,
   "id": "ed7193ce-4463-4852-8419-95c7c33254ef",
   "metadata": {},
   "outputs": [
    {
     "name": "stdout",
     "output_type": "stream",
     "text": [
      "[[1]]\n"
     ]
    }
   ],
   "source": [
    "prediction = (prediction > 0.5).astype(\"int32\")\n",
    "\n",
    "print(prediction)"
   ]
  },
  {
   "cell_type": "code",
   "execution_count": 45,
   "id": "1a1f9211-f5b7-416d-8b76-d7d40907502f",
   "metadata": {},
   "outputs": [],
   "source": [
    "bad_review = \"good food\"\n",
    "encoded_review = one_hot(bad_review, vocab_size) \n",
    "padded_reviews = pad_sequences([encoded_review], maxlen=max_length, padding=\"post\") "
   ]
  },
  {
   "cell_type": "code",
   "execution_count": 46,
   "id": "d4b822a6-9f0d-4252-b213-22c844cd81f3",
   "metadata": {},
   "outputs": [
    {
     "name": "stdout",
     "output_type": "stream",
     "text": [
      "1/1 [==============================] - 0s 13ms/step\n"
     ]
    },
    {
     "data": {
      "text/plain": [
       "array([[0.4942749]], dtype=float32)"
      ]
     },
     "execution_count": 46,
     "metadata": {},
     "output_type": "execute_result"
    }
   ],
   "source": [
    "model.predict([padded_reviews])"
   ]
  },
  {
   "cell_type": "code",
   "execution_count": null,
   "id": "8e300cc7-5bc0-467d-bdd5-3c7014aa2c5f",
   "metadata": {},
   "outputs": [],
   "source": []
  }
 ],
 "metadata": {
  "kernelspec": {
   "display_name": "Python 3 (ipykernel)",
   "language": "python",
   "name": "python3"
  },
  "language_info": {
   "codemirror_mode": {
    "name": "ipython",
    "version": 3
   },
   "file_extension": ".py",
   "mimetype": "text/x-python",
   "name": "python",
   "nbconvert_exporter": "python",
   "pygments_lexer": "ipython3",
   "version": "3.10.13"
  }
 },
 "nbformat": 4,
 "nbformat_minor": 5
}
