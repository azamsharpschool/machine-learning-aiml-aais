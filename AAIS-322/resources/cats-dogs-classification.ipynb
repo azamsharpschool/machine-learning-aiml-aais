{
 "cells": [
  {
   "cell_type": "code",
   "execution_count": 14,
   "id": "8e6cc082-4776-420a-b8ea-4da72858cd9c",
   "metadata": {},
   "outputs": [],
   "source": [
    "import os \n",
    "from skimage.io import imread\n",
    "from skimage.transform import resize"
   ]
  },
  {
   "cell_type": "code",
   "execution_count": null,
   "id": "169c50dc-318a-4e9a-a053-1332d112fc04",
   "metadata": {},
   "outputs": [],
   "source": [
    "X = [] \n",
    "y = [] \n",
    "\n",
    "for category in [\"cats\", \"dogs\"]: \n",
    "    for filename in os.listdir(f\"train/{category}\"): \n",
    "        img = imread(os.path.join(f\"train/{category}\", filename), as_gray=True) \n",
    "        img = resize(img, (64, 64)) \n",
    "        X.append(img.flatten()) \n",
    "        y.append(category) "
   ]
  },
  {
   "cell_type": "code",
   "execution_count": null,
   "id": "ed377fc4-0f6f-4893-8d7f-9dd85ba0f01f",
   "metadata": {},
   "outputs": [],
   "source": [
    "print(X[0]) \n",
    "print(y[0])"
   ]
  },
  {
   "cell_type": "code",
   "execution_count": null,
   "id": "5bdd0849-2bde-41d2-bf17-84db19e0a15b",
   "metadata": {},
   "outputs": [],
   "source": [
    "from sklearn.model_selection import train_test_split \n"
   ]
  },
  {
   "cell_type": "code",
   "execution_count": null,
   "id": "03d5f7f0-008c-4e41-ae7e-5b0818b5553b",
   "metadata": {},
   "outputs": [],
   "source": [
    "X_train, X_test, y_train, y_test = train_test_split(X, y, test_size=0.2)"
   ]
  },
  {
   "cell_type": "code",
   "execution_count": null,
   "id": "787197b4-30b8-40aa-8b54-d987c7d4db7f",
   "metadata": {},
   "outputs": [],
   "source": [
    "from sklearn.linear_model import LogisticRegression"
   ]
  },
  {
   "cell_type": "code",
   "execution_count": null,
   "id": "204e5d98-6d37-4052-b90d-ca3ecaed7c74",
   "metadata": {},
   "outputs": [],
   "source": [
    "clf = LogisticRegression(max_iter=8000) "
   ]
  },
  {
   "cell_type": "code",
   "execution_count": null,
   "id": "a1982bc5-acbc-4722-8eb2-c8019b48ce80",
   "metadata": {},
   "outputs": [],
   "source": [
    "clf.fit(X_train, y_train)"
   ]
  },
  {
   "cell_type": "code",
   "execution_count": null,
   "id": "c1138a18-c397-4fec-842c-75f8150585f2",
   "metadata": {},
   "outputs": [],
   "source": [
    "clf.score(X_test, y_test) "
   ]
  },
  {
   "cell_type": "code",
   "execution_count": null,
   "id": "05fb5001-c60b-4982-9363-3079d5a2bea7",
   "metadata": {},
   "outputs": [],
   "source": [
    "clf.predict(X_test)"
   ]
  },
  {
   "cell_type": "code",
   "execution_count": null,
   "id": "610ff4cb-18f7-418c-be0d-964586e706dd",
   "metadata": {},
   "outputs": [],
   "source": [
    "X_test[0]"
   ]
  },
  {
   "cell_type": "code",
   "execution_count": null,
   "id": "c6bb779e-c309-44b2-b256-77a9c132c894",
   "metadata": {},
   "outputs": [],
   "source": [
    "import matplotlib.pyplot as plt "
   ]
  },
  {
   "cell_type": "code",
   "execution_count": null,
   "id": "ef3454a1-5c6e-4394-9ce6-ca0b783d56bf",
   "metadata": {},
   "outputs": [],
   "source": [
    "plt.imshow\n",
    "\n",
    "for index in range(0,10): \n",
    "    plt.subplot(1, 10, index + 1) \n",
    "    plt.imshow(X_test[index].reshape(64,64), cmap='gray') \n",
    "    plt.axis(\"off\")\n",
    "\n",
    "plt.show()"
   ]
  },
  {
   "cell_type": "code",
   "execution_count": null,
   "id": "de77044c-2086-4578-bdd0-9c9b1cd27a6e",
   "metadata": {},
   "outputs": [],
   "source": []
  }
 ],
 "metadata": {
  "kernelspec": {
   "display_name": "Python 3 (ipykernel)",
   "language": "python",
   "name": "python3"
  },
  "language_info": {
   "codemirror_mode": {
    "name": "ipython",
    "version": 3
   },
   "file_extension": ".py",
   "mimetype": "text/x-python",
   "name": "python",
   "nbconvert_exporter": "python",
   "pygments_lexer": "ipython3",
   "version": "3.10.13"
  }
 },
 "nbformat": 4,
 "nbformat_minor": 5
}
